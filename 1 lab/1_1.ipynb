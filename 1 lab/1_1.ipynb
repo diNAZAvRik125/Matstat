{
 "cells": [
  {
   "cell_type": "code",
   "execution_count": 20,
   "id": "61485ebb",
   "metadata": {},
   "outputs": [
    {
     "name": "stdout",
     "output_type": "stream",
     "text": [
      "Requirement already satisfied: bokeh in c:\\programdata\\anaconda3\\lib\\site-packages (2.4.1)\n",
      "Requirement already satisfied: tornado>=5.1 in c:\\programdata\\anaconda3\\lib\\site-packages (from bokeh) (6.1)\n",
      "Requirement already satisfied: typing-extensions>=3.10.0 in c:\\programdata\\anaconda3\\lib\\site-packages (from bokeh) (3.10.0.2)\n",
      "Requirement already satisfied: Jinja2>=2.9 in c:\\programdata\\anaconda3\\lib\\site-packages (from bokeh) (2.11.3)\n",
      "Requirement already satisfied: packaging>=16.8 in c:\\programdata\\anaconda3\\lib\\site-packages (from bokeh) (21.0)\n",
      "Requirement already satisfied: pillow>=7.1.0 in c:\\programdata\\anaconda3\\lib\\site-packages (from bokeh) (8.4.0)\n",
      "Requirement already satisfied: PyYAML>=3.10 in c:\\programdata\\anaconda3\\lib\\site-packages (from bokeh) (6.0)\n",
      "Requirement already satisfied: numpy>=1.11.3 in c:\\programdata\\anaconda3\\lib\\site-packages (from bokeh) (1.20.3)\n",
      "Requirement already satisfied: MarkupSafe>=0.23 in c:\\programdata\\anaconda3\\lib\\site-packages (from Jinja2>=2.9->bokeh) (1.1.1)\n",
      "Requirement already satisfied: pyparsing>=2.0.2 in c:\\programdata\\anaconda3\\lib\\site-packages (from packaging>=16.8->bokeh) (3.0.4)\n"
     ]
    }
   ],
   "source": [
    "!pip install bokeh"
   ]
  },
  {
   "cell_type": "code",
   "execution_count": 30,
   "id": "05fa7a69",
   "metadata": {},
   "outputs": [
    {
     "name": "stdout",
     "output_type": "stream",
     "text": [
      "Python version      :  3.9.7 (default, Sep 16 2021, 16:59:28) [MSC v.1916 64 bit (AMD64)]\n",
      "IPython version     :  7.29.0\n",
      "Tornado version     :  6.1\n",
      "Bokeh version       :  2.4.1\n",
      "BokehJS static path :  C:\\ProgramData\\Anaconda3\\lib\\site-packages\\bokeh\\server\\static\n",
      "node.js version     :  v17.9.0\n",
      "npm version         :  8.5.5\n"
     ]
    }
   ],
   "source": [
    "!bokeh info"
   ]
  },
  {
   "cell_type": "code",
   "execution_count": 31,
   "id": "37829862",
   "metadata": {},
   "outputs": [
    {
     "name": "stdout",
     "output_type": "stream",
     "text": [
      "Requirement already satisfied: Jinja2 in c:\\programdata\\anaconda3\\lib\\site-packages (2.11.3)\n",
      "Requirement already satisfied: MarkupSafe>=0.23 in c:\\programdata\\anaconda3\\lib\\site-packages (from Jinja2) (1.1.1)\n",
      "Collecting contourpy\n",
      "  Downloading contourpy-1.0.7-cp39-cp39-win_amd64.whl (160 kB)\n",
      "Requirement already satisfied: numpy>=1.16 in c:\\programdata\\anaconda3\\lib\\site-packages (from contourpy) (1.20.3)\n",
      "Installing collected packages: contourpy\n",
      "Successfully installed contourpy-1.0.7\n",
      "Requirement already satisfied: numpy in c:\\programdata\\anaconda3\\lib\\site-packages (1.20.3)\n",
      "Requirement already satisfied: pandas in c:\\programdata\\anaconda3\\lib\\site-packages (1.3.4)\n",
      "Requirement already satisfied: numpy>=1.17.3 in c:\\programdata\\anaconda3\\lib\\site-packages (from pandas) (1.20.3)\n",
      "Requirement already satisfied: python-dateutil>=2.7.3 in c:\\programdata\\anaconda3\\lib\\site-packages (from pandas) (2.8.2)\n",
      "Requirement already satisfied: pytz>=2017.3 in c:\\programdata\\anaconda3\\lib\\site-packages (from pandas) (2021.3)\n",
      "Requirement already satisfied: six>=1.5 in c:\\programdata\\anaconda3\\lib\\site-packages (from python-dateutil>=2.7.3->pandas) (1.16.0)\n",
      "Requirement already satisfied: pillow in c:\\programdata\\anaconda3\\lib\\site-packages (8.4.0)\n",
      "Requirement already satisfied: PyYAML in c:\\programdata\\anaconda3\\lib\\site-packages (6.0)\n",
      "Requirement already satisfied: tornado in c:\\programdata\\anaconda3\\lib\\site-packages (6.1)\n",
      "Collecting xyzservices\n",
      "  Downloading xyzservices-2023.2.0-py3-none-any.whl (55 kB)\n",
      "Installing collected packages: xyzservices\n",
      "Successfully installed xyzservices-2023.2.0\n"
     ]
    }
   ],
   "source": [
    "!pip install Jinja2\n",
    "!pip install contourpy\n",
    "!pip install numpy\n",
    "!pip install pandas\n",
    "!pip install pillow\n",
    "!pip install PyYAML\n",
    "!pip install tornado\n",
    "!pip install xyzservices"
   ]
  },
  {
   "cell_type": "code",
   "execution_count": 9,
   "id": "b70edac7",
   "metadata": {},
   "outputs": [
    {
     "name": "stdout",
     "output_type": "stream",
     "text": [
      "Requirement already satisfied: scipy in c:\\programdata\\anaconda3\\lib\\site-packages (1.7.1)\n",
      "Requirement already satisfied: numpy<1.23.0,>=1.16.5 in c:\\programdata\\anaconda3\\lib\\site-packages (from scipy) (1.20.3)\n"
     ]
    }
   ],
   "source": [
    "!pip install scipy"
   ]
  },
  {
   "cell_type": "code",
   "execution_count": 21,
   "id": "7343759e",
   "metadata": {},
   "outputs": [],
   "source": [
    "import numpy as np\n",
    "from numpy.random import default_rng\n",
    "# from matplotlib import pyplot as plt\n",
    "from scipy import stats\n",
    "from bokeh.plotting import figure, show\n",
    "from scipy.stats import chisquare\n",
    "from scipy.stats import randint"
   ]
  },
  {
   "cell_type": "code",
   "execution_count": 2,
   "id": "48fa9ee0",
   "metadata": {},
   "outputs": [
    {
     "name": "stdout",
     "output_type": "stream",
     "text": [
      "Using data directory: C:\\Users\\Назар\\.bokeh\\data\n",
      "Skipping 'CGM.csv' (checksum match)\n",
      "Skipping 'US_Counties.zip' (checksum match)\n",
      "Skipping 'us_cities.json' (checksum match)\n",
      "Skipping 'unemployment09.csv' (checksum match)\n",
      "Skipping 'AAPL.csv' (checksum match)\n",
      "Skipping 'FB.csv' (checksum match)\n",
      "Skipping 'GOOG.csv' (checksum match)\n",
      "Skipping 'IBM.csv' (checksum match)\n",
      "Skipping 'MSFT.csv' (checksum match)\n",
      "Skipping 'WPP2012_SA_DB03_POPULATION_QUINQUENNIAL.zip' (checksum match)\n",
      "Skipping 'gapminder_fertility.csv' (checksum match)\n",
      "Skipping 'gapminder_population.csv' (checksum match)\n",
      "Skipping 'gapminder_life_expectancy.csv' (checksum match)\n",
      "Skipping 'gapminder_regions.csv' (checksum match)\n",
      "Skipping 'world_cities.zip' (checksum match)\n",
      "Skipping 'airports.json' (checksum match)\n",
      "Skipping 'movies.db.zip' (checksum match)\n",
      "Skipping 'airports.csv' (checksum match)\n",
      "Skipping 'routes.csv' (checksum match)\n",
      "Skipping 'haarcascade_frontalface_default.xml' (checksum match)\n"
     ]
    }
   ],
   "source": [
    "import bokeh.sampledata\n",
    "bokeh.sampledata.download()"
   ]
  },
  {
   "cell_type": "code",
   "execution_count": 20,
   "id": "888a88a6",
   "metadata": {},
   "outputs": [
    {
     "ename": "ValueError",
     "evalue": "array([5, 3, 6, 4, 3, 6, 5, 5], dtype=int64) cannot be used to seed a numpy.random.RandomState instance",
     "output_type": "error",
     "traceback": [
      "\u001b[1;31m---------------------------------------------------------------------------\u001b[0m",
      "\u001b[1;31mValueError\u001b[0m                                Traceback (most recent call last)",
      "\u001b[1;32mC:\\Users\\5B34~1\\AppData\\Local\\Temp/ipykernel_75916/1200265643.py\u001b[0m in \u001b[0;36m<module>\u001b[1;34m\u001b[0m\n\u001b[0;32m      2\u001b[0m \u001b[0mrng\u001b[0m \u001b[1;33m=\u001b[0m \u001b[0mnp\u001b[0m\u001b[1;33m.\u001b[0m\u001b[0mrandom\u001b[0m\u001b[1;33m.\u001b[0m\u001b[0mdefault_rng\u001b[0m\u001b[1;33m(\u001b[0m\u001b[1;36m12345\u001b[0m\u001b[1;33m)\u001b[0m\u001b[1;33m\u001b[0m\u001b[1;33m\u001b[0m\u001b[0m\n\u001b[0;32m      3\u001b[0m \u001b[0mrints\u001b[0m \u001b[1;33m=\u001b[0m \u001b[0mrng\u001b[0m\u001b[1;33m.\u001b[0m\u001b[0mintegers\u001b[0m\u001b[1;33m(\u001b[0m\u001b[0mlow\u001b[0m\u001b[1;33m=\u001b[0m\u001b[1;36m3\u001b[0m\u001b[1;33m,\u001b[0m \u001b[0mhigh\u001b[0m\u001b[1;33m=\u001b[0m\u001b[1;36m7\u001b[0m\u001b[1;33m,\u001b[0m \u001b[0msize\u001b[0m\u001b[1;33m=\u001b[0m\u001b[1;36m8\u001b[0m\u001b[1;33m)\u001b[0m\u001b[1;33m\u001b[0m\u001b[1;33m\u001b[0m\u001b[0m\n\u001b[1;32m----> 4\u001b[1;33m \u001b[0mprint\u001b[0m\u001b[1;33m(\u001b[0m\u001b[0mstats\u001b[0m\u001b[1;33m.\u001b[0m\u001b[0muniform\u001b[0m\u001b[1;33m.\u001b[0m\u001b[0mrvs\u001b[0m\u001b[1;33m(\u001b[0m\u001b[0msize\u001b[0m\u001b[1;33m=\u001b[0m\u001b[1;36m5\u001b[0m\u001b[1;33m,\u001b[0m \u001b[0mrandom_state\u001b[0m\u001b[1;33m=\u001b[0m\u001b[0mrints\u001b[0m\u001b[1;33m)\u001b[0m\u001b[1;33m)\u001b[0m\u001b[1;33m\u001b[0m\u001b[1;33m\u001b[0m\u001b[0m\n\u001b[0m",
      "\u001b[1;32mC:\\ProgramData\\Anaconda3\\lib\\site-packages\\scipy\\stats\\_distn_infrastructure.py\u001b[0m in \u001b[0;36mrvs\u001b[1;34m(self, *args, **kwds)\u001b[0m\n\u001b[0;32m   1073\u001b[0m         \u001b[1;32mif\u001b[0m \u001b[0mrndm\u001b[0m \u001b[1;32mis\u001b[0m \u001b[1;32mnot\u001b[0m \u001b[1;32mNone\u001b[0m\u001b[1;33m:\u001b[0m\u001b[1;33m\u001b[0m\u001b[1;33m\u001b[0m\u001b[0m\n\u001b[0;32m   1074\u001b[0m             \u001b[0mrandom_state_saved\u001b[0m \u001b[1;33m=\u001b[0m \u001b[0mself\u001b[0m\u001b[1;33m.\u001b[0m\u001b[0m_random_state\u001b[0m\u001b[1;33m\u001b[0m\u001b[1;33m\u001b[0m\u001b[0m\n\u001b[1;32m-> 1075\u001b[1;33m             \u001b[0mrandom_state\u001b[0m \u001b[1;33m=\u001b[0m \u001b[0mcheck_random_state\u001b[0m\u001b[1;33m(\u001b[0m\u001b[0mrndm\u001b[0m\u001b[1;33m)\u001b[0m\u001b[1;33m\u001b[0m\u001b[1;33m\u001b[0m\u001b[0m\n\u001b[0m\u001b[0;32m   1076\u001b[0m         \u001b[1;32melse\u001b[0m\u001b[1;33m:\u001b[0m\u001b[1;33m\u001b[0m\u001b[1;33m\u001b[0m\u001b[0m\n\u001b[0;32m   1077\u001b[0m             \u001b[0mrandom_state\u001b[0m \u001b[1;33m=\u001b[0m \u001b[0mself\u001b[0m\u001b[1;33m.\u001b[0m\u001b[0m_random_state\u001b[0m\u001b[1;33m\u001b[0m\u001b[1;33m\u001b[0m\u001b[0m\n",
      "\u001b[1;32mC:\\ProgramData\\Anaconda3\\lib\\site-packages\\scipy\\_lib\\_util.py\u001b[0m in \u001b[0;36mcheck_random_state\u001b[1;34m(seed)\u001b[0m\n\u001b[0;32m    241\u001b[0m     \u001b[1;32mexcept\u001b[0m \u001b[0mAttributeError\u001b[0m\u001b[1;33m:\u001b[0m\u001b[1;33m\u001b[0m\u001b[1;33m\u001b[0m\u001b[0m\n\u001b[0;32m    242\u001b[0m         \u001b[1;32mpass\u001b[0m\u001b[1;33m\u001b[0m\u001b[1;33m\u001b[0m\u001b[0m\n\u001b[1;32m--> 243\u001b[1;33m     raise ValueError('%r cannot be used to seed a numpy.random.RandomState'\n\u001b[0m\u001b[0;32m    244\u001b[0m                      ' instance' % seed)\n\u001b[0;32m    245\u001b[0m \u001b[1;33m\u001b[0m\u001b[0m\n",
      "\u001b[1;31mValueError\u001b[0m: array([5, 3, 6, 4, 3, 6, 5, 5], dtype=int64) cannot be used to seed a numpy.random.RandomState instance"
     ]
    }
   ],
   "source": [
    "# rng = default_rng()\n",
    "rng = np.random.default_rng(12345)\n",
    "rints = rng.integers(low=3, high=7, size=8)\n",
    "print(stats.uniform.rvs(size=5, random_state=rints))"
   ]
  },
  {
   "cell_type": "code",
   "execution_count": 15,
   "id": "ab44dd4e",
   "metadata": {},
   "outputs": [
    {
     "name": "stdout",
     "output_type": "stream",
     "text": [
      "[5 3 6 4 3 6 5 5]\n"
     ]
    }
   ],
   "source": [
    "rng = np.random.default_rng(12345)\n",
    "rints = rng.integers(low=3, high=7, size=8)\n",
    "print(rints)"
   ]
  },
  {
   "cell_type": "code",
   "execution_count": 4,
   "id": "b7190c53",
   "metadata": {},
   "outputs": [
    {
     "name": "stdout",
     "output_type": "stream",
     "text": [
      "[7.30630559 5.12371995 8.63401769 4.94961849 8.40014727]\n"
     ]
    }
   ],
   "source": [
    "print(stats.uniform.rvs(loc = 3, scale = 7, size = 5))"
   ]
  },
  {
   "cell_type": "code",
   "execution_count": 5,
   "id": "9d959ff5",
   "metadata": {},
   "outputs": [
    {
     "name": "stdout",
     "output_type": "stream",
     "text": [
      "0.1\n"
     ]
    }
   ],
   "source": [
    "print (stats.uniform.ppf(0.1))"
   ]
  },
  {
   "cell_type": "code",
   "execution_count": 43,
   "id": "e190957a",
   "metadata": {
    "scrolled": true
   },
   "outputs": [
    {
     "name": "stdout",
     "output_type": "stream",
     "text": [
      "6.504614273852419\n",
      "6.504614273852414\n"
     ]
    }
   ],
   "source": [
    "xk = stats.uniform.rvs(loc = 3, scale = 7, size = 1000000)\n",
    "S = 0\n",
    "for i in range(1000000):\n",
    "    S += xk[i]\n",
    "print(S/1000000)\n",
    "print(np.mean(xk))"
   ]
  },
  {
   "cell_type": "code",
   "execution_count": 9,
   "id": "d8ab061a",
   "metadata": {
    "scrolled": false
   },
   "outputs": [],
   "source": [
    "pk = np.linspace(0, 100, 100)\n",
    "p = figure(title=\"Multiple glyphs example\", x_axis_label=\"x\", y_axis_label=\"y\")\n",
    "p.circle(pk, xk, legend_label=\"Objects\", color=\"yellow\", size=12)\n",
    "show(p)"
   ]
  },
  {
   "cell_type": "code",
   "execution_count": 10,
   "id": "7bea1e9a",
   "metadata": {},
   "outputs": [],
   "source": [
    "pk = np.linspace(0, 100, 100)\n",
    "x = pk\n",
    "y = xk\n",
    "\n",
    "# create a new plot with a title and axis labels\n",
    "p = figure(title=\"Simple line example\", x_axis_label=\"x\", y_axis_label=\"y\")\n",
    "\n",
    "# add a line renderer with legend and line thickness\n",
    "p.vbar(x=pk, top=xk, legend_label=\"Rate\", width=0.5, bottom=0, color=\"red\")\n",
    "# show the results\n",
    "show(p)"
   ]
  },
  {
   "cell_type": "code",
   "execution_count": 11,
   "id": "8f9a947f",
   "metadata": {},
   "outputs": [],
   "source": [
    "xk_100 = stats.uniform.rvs(loc = 3, scale = 7, size = 100)\n",
    "xk_250 = stats.uniform.rvs(loc = 3, scale = 7, size = 250)\n",
    "xk_500 = stats.uniform.rvs(loc = 3, scale = 7, size = 500)\n",
    "xk_750 = stats.uniform.rvs(loc = 3, scale = 7, size = 750)\n",
    "xk_1000 = stats.uniform.rvs(loc = 3, scale = 7, size = 1000)\n",
    "xk_1250 = stats.uniform.rvs(loc = 3, scale = 7, size = 1250)\n",
    "xk_1500 = stats.uniform.rvs(loc = 3, scale = 7, size = 1500)\n",
    "xk_1750 = stats.uniform.rvs(loc = 3, scale = 7, size = 1750)\n",
    "xk_2500 = stats.uniform.rvs(loc = 3, scale = 7, size = 2500)\n",
    "xk_5000 = stats.uniform.rvs(loc = 3, scale = 7, size = 5000)\n",
    "xk_7500 = stats.uniform.rvs(loc = 3, scale = 7, size = 7500)\n",
    "xk_10000 = stats.uniform.rvs(loc = 3, scale = 7, size = 10000)"
   ]
  },
  {
   "cell_type": "code",
   "execution_count": 12,
   "id": "3c769ebc",
   "metadata": {},
   "outputs": [
    {
     "name": "stdout",
     "output_type": "stream",
     "text": [
      "0.5\n"
     ]
    }
   ],
   "source": [
    "print (stats.uniform.ppf(0.5))"
   ]
  },
  {
   "cell_type": "code",
   "execution_count": 13,
   "id": "2a61aa52",
   "metadata": {},
   "outputs": [],
   "source": [
    "S_n = np.arange(12)\n",
    "for i in range(12):\n",
    "    S_n[i] = 0\n",
    "for i_0 in range(100):\n",
    "    S_n[0] += xk_100[i_0]\n",
    "for i_1 in range(250):\n",
    "    S_n[1] += xk_250[i_1]\n",
    "for i_2 in range(500):\n",
    "    S_n[2] += xk_500[i_2]\n",
    "for i_3 in range(750):\n",
    "    S_n[3] += xk_750[i_3]\n",
    "for i_4 in range(1000):\n",
    "    S_n[4] += xk_1000[i_4]\n",
    "for i_5 in range(1250):\n",
    "    S_n[5] += xk_1250[i_5]\n",
    "for i_6 in range(1500):\n",
    "    S_n[6] += xk_1500[i_6]\n",
    "for i_7 in range(1750):\n",
    "    S_n[7] += xk_1750[i_7]\n",
    "for i_8 in range(2500):\n",
    "    S_n[8] += xk_2500[i_8]\n",
    "for i_9 in range(5000):\n",
    "    S_n[9] += xk_5000[i_8]\n",
    "for i_10 in range(7500):\n",
    "    S_n[10] += xk_7500[i_8]\n",
    "for i_11 in range(10000):\n",
    "    S_n[11] += xk_10000[i_8]"
   ]
  },
  {
   "cell_type": "code",
   "execution_count": 14,
   "id": "d4edcf37",
   "metadata": {},
   "outputs": [],
   "source": [
    "Sn_n = np.arange(12)\n",
    "Sn_n[0] = S_n[0]/100\n",
    "Sn_n[1] = S_n[1]/250\n",
    "Sn_n[2] = S_n[2]/500\n",
    "Sn_n[3] = S_n[3]/750\n",
    "Sn_n[4] = S_n[4]/1000\n",
    "Sn_n[5] = S_n[5]/1250\n",
    "Sn_n[6] = S_n[6]/1500\n",
    "Sn_n[7] = S_n[7]/1750\n",
    "Sn_n[8] = S_n[8]/2500\n",
    "Sn_n[9] = S_n[9]/5000\n",
    "Sn_n[10] = S_n[10]/7500\n",
    "Sn_n[11] = S_n[11]/10000\n",
    "N = [100, 250, 500, 750, 1000, 1250, 1500, 1750, 2500, 5000, 7500, 10000]"
   ]
  },
  {
   "cell_type": "code",
   "execution_count": 19,
   "id": "cb5c161f",
   "metadata": {},
   "outputs": [],
   "source": [
    "E = np.arange(12)\n",
    "E[0] = np.mean(xk_100, axis = 0)\n",
    "E[1] = np.mean(xk_250, axis = 0)\n",
    "E[2] = np.mean(xk_500, axis = 0)\n",
    "E[3] = np.mean(xk_750, axis = 0)\n",
    "E[4] = np.mean(xk_1000, axis = 0)\n",
    "E[5] = np.mean(xk_1250, axis = 0)\n",
    "E[6] = np.mean(xk_1500, axis = 0)\n",
    "E[7] = np.mean(xk_1750, axis = 0)\n",
    "E[8] = np.mean(xk_2500, axis = 0)\n",
    "E[9] = np.mean(xk_5000, axis = 0)\n",
    "E[10] = np.mean(xk_7500, axis = 0)\n",
    "E[11] = np.mean(xk_10000, axis = 0)"
   ]
  },
  {
   "cell_type": "code",
   "execution_count": 20,
   "id": "f298853e",
   "metadata": {},
   "outputs": [],
   "source": [
    "delta = np.arange(12)\n",
    "for i in range(12):\n",
    "    delta[i] = np.abs(E[i] - Sn_n[i])"
   ]
  },
  {
   "cell_type": "code",
   "execution_count": 21,
   "id": "3f177fcf",
   "metadata": {},
   "outputs": [],
   "source": [
    "p = figure(title=\"Multiple glyphs example\", x_axis_label=\"x\", y_axis_label=\"y\")\n",
    "p.vbar(x=N, top=Sn_n, legend_label=\"Rate\", width=0.5, bottom=0, color=\"red\")\n",
    "p.vbar(x=N, top=E, legend_label=\"Rate\", width=0.5, bottom=0, color=\"blue\")\n",
    "show(p)"
   ]
  },
  {
   "cell_type": "code",
   "execution_count": 22,
   "id": "67055a89",
   "metadata": {},
   "outputs": [],
   "source": [
    "X = np.linspace(0, 12, 12)\n",
    "p_1 = figure(title=\"Multiple glyphs example\", x_axis_label=\"x\", y_axis_label=\"y\")\n",
    "p_1.line(X, delta, legend_label=\"Rate\", color=\"red\", line_width=2)\n",
    "show(p_1)"
   ]
  },
  {
   "cell_type": "code",
   "execution_count": null,
   "id": "db8d8378",
   "metadata": {},
   "outputs": [],
   "source": []
  }
 ],
 "metadata": {
  "kernelspec": {
   "display_name": "Python 3 (ipykernel)",
   "language": "python",
   "name": "python3"
  },
  "language_info": {
   "codemirror_mode": {
    "name": "ipython",
    "version": 3
   },
   "file_extension": ".py",
   "mimetype": "text/x-python",
   "name": "python",
   "nbconvert_exporter": "python",
   "pygments_lexer": "ipython3",
   "version": "3.9.7"
  }
 },
 "nbformat": 4,
 "nbformat_minor": 5
}
