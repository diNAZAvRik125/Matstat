{
 "cells": [
  {
   "cell_type": "code",
   "execution_count": 3,
   "id": "6e29965a",
   "metadata": {},
   "outputs": [],
   "source": [
    "# Define the true total number of events\n",
    "true_num_events = quad(intensity_func, 0, T)[0]\n",
    "\n",
    "# Compare the simulated intensities with the true intensity\n",
    "for n in n_vals:\n",
    "    # Define the time step size\n",
    "    dt = T/n\n",
    "    \n",
    "    # Define the time points\n",
    "    t = np.arange(0, T, dt)\n",
    "    \n",
    "    # Compute the\n"
   ]
  },
  {
   "cell_type": "code",
   "execution_count": 4,
   "id": "27245ad4",
   "metadata": {},
   "outputs": [
    {
     "data": {
      "image/png": "[encoded data removed]",
      "text/plain": [
       "<Figure size 432x288 with 1 Axes>"
      ]
     },
     "metadata": {
      "needs_background": "light"
     },
     "output_type": "display_data"
    }
   ],
   "source": [
    "import numpy as np\n",
    "import matplotlib.pyplot as plt\n",
    "from scipy.integrate import quad\n",
    "from scipy.stats import poisson\n",
    "\n",
    "# Define the intensity function lambda(t)\n",
    "def intensity_func(t):\n",
    "    return np.sin(2*t)\n",
    "\n",
    "# Define the time interval\n",
    "T = np.pi/4\n",
    "\n",
    "# Define the number of simulations\n",
    "n_vals = [10, 100, 1000, 10000]\n",
    "\n",
    "# Generate and plot the trajectories for different numbers of simulations\n",
    "for n in n_vals:\n",
    "    # Define the time step size\n",
    "    dt = T/n\n",
    "    \n",
    "    # Define the time points\n",
    "    t = np.arange(0, T, dt)\n",
    "    \n",
    "    # Compute the intensity at each time point\n",
    "    intensity = intensity_func(t)\n",
    "    \n",
    "    # Compute the expected number of events in each time interval\n",
    "    expected_events = intensity*dt\n",
    "    \n",
    "    # Simulate the number of events in each time interval\n",
    "    events = np.random.poisson(expected_events)\n",
    "    \n",
    "    # Compute the times at which events occur\n",
    "    event_times = np.concatenate([[0], np.cumsum(events*dt)])\n",
    "    \n",
    "    # Plot the trajectory of the process\n",
    "    plt.step(event_times, np.arange(len(event_times)), where='post')\n",
    "    \n",
    "# Plot the true intensity function\n",
    "t_grid = np.linspace(0, T, 1000)\n",
    "intensity_grid = intensity_func(t_grid)\n",
    "plt.plot(t_grid, intensity_grid*T, 'r-', lw=2)\n",
    "\n",
    "# Add labels and legend\n",
    "plt.xlabel('Time')\n",
    "plt.ylabel('Number of Events')\n",
    "plt.legend(['True Intensity'] + [f'n = {n}' for n in n_vals])\n",
    "\n",
    "# Show the plot\n",
    "plt.show()\n"
   ]
  },
  {
   "cell_type": "code",
   "execution_count": null,
   "id": "e8ac089b",
   "metadata": {},
   "outputs": [],
   "source": []
  }
 ],
 "metadata": {
  "kernelspec": {
   "display_name": "Python 3 (ipykernel)",
   "language": "python",
   "name": "python3"
  },
  "language_info": {
   "codemirror_mode": {
    "name": "ipython",
    "version": 3
   },
   "file_extension": ".py",
   "mimetype": "text/x-python",
   "name": "python",
   "nbconvert_exporter": "python",
   "pygments_lexer": "ipython3",
   "version": "3.9.7"
  }
 },
 "nbformat": 4,
 "nbformat_minor": 5
}
