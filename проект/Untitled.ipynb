{
 "cells": [
  {
   "cell_type": "code",
   "execution_count": 55,
   "id": "054faf8a",
   "metadata": {},
   "outputs": [],
   "source": [
    "import pandas as pd\n",
    "import numpy as np\n",
    "import matplotlib.pyplot as plt\n",
    "from scipy.stats import randint, norm, kstest, cauchy, laplace, gamma, lognorm\n",
    "import seaborn as sns\n",
    "from fitter import Fitter, get_common_distributions, get_distributions"
   ]
  },
  {
   "cell_type": "code",
   "execution_count": 2,
   "id": "ec71d9e0",
   "metadata": {
    "scrolled": true
   },
   "outputs": [
    {
     "name": "stdout",
     "output_type": "stream",
     "text": [
      "<bound method NDFrame.head of          price        date      time    geo_lat    geo_lon  region  \\\n",
      "0      4200000  2018-06-13  11:05:52  55.575248  38.253133      81   \n",
      "1      2900000  2018-07-12  12:52:00  56.334567  38.142952      81   \n",
      "2      2950000  2018-08-31  16:42:58  55.859248  37.126637      81   \n",
      "3      2050000  2018-09-08  00:59:22  56.079639  37.930872      81   \n",
      "4      4600000  2018-09-08  02:12:55  55.681777  37.281888      81   \n",
      "...        ...         ...       ...        ...        ...     ...   \n",
      "30737  6450000  2021-05-01  17:56:41  55.825178  37.117538      81   \n",
      "30738  3600000  2021-05-01  18:02:42  55.883449  37.538916       3   \n",
      "30739  1600000  2021-05-01  18:09:41  55.333894  38.891093      81   \n",
      "30740  7158000  2021-05-01  19:06:42  55.771246  37.683033       3   \n",
      "30741  3800000  2021-05-01  19:06:42  55.540449  37.074465      81   \n",
      "\n",
      "       building_type  level  levels  rooms  area  kitchen_area  object_type  \n",
      "0                  3      3      17      1  43.0          13.6            1  \n",
      "1                  3      2       9      1  37.5           9.0            1  \n",
      "2                  3      2       5      1  33.4           7.0            1  \n",
      "3                  3      1       4      1  32.0           6.0            1  \n",
      "4                  3      2      15      1  32.0           9.0            1  \n",
      "...              ...    ...     ...    ...   ...           ...          ...  \n",
      "30737              3      2       3      1  38.0           9.0            1  \n",
      "30738              3      3       3      1  18.0           2.0            1  \n",
      "30739              3      2       4      1  30.0           6.0            1  \n",
      "30740              3      2      12      1  41.0          12.0            1  \n",
      "30741              3      1       9      1  34.0           9.0            1  \n",
      "\n",
      "[30742 rows x 13 columns]>\n"
     ]
    }
   ],
   "source": [
    "dataset = pd.read_csv('1moskow_1_rooms_fist_floors(1-3)_Brick.csv')\n",
    "print(dataset.head)"
   ]
  },
  {
   "cell_type": "code",
   "execution_count": 53,
   "id": "2a7c0e76",
   "metadata": {},
   "outputs": [],
   "source": [
    "price = np.array(dataset[['price']])\n",
    "price = price.ravel()"
   ]
  },
  {
   "cell_type": "code",
   "execution_count": 62,
   "id": "0e8316ed",
   "metadata": {},
   "outputs": [
    {
     "name": "stderr",
     "output_type": "stream",
     "text": [
      "Fitting 5 distributions: 100%|███████████████████████████████████████████████████████████| 5/5 [00:00<00:00, 44.50it/s]\n"
     ]
    },
    {
     "data": {
      "text/html": [
       "<div>\n",
       "<style scoped>\n",
       "    .dataframe tbody tr th:only-of-type {\n",
       "        vertical-align: middle;\n",
       "    }\n",
       "\n",
       "    .dataframe tbody tr th {\n",
       "        vertical-align: top;\n",
       "    }\n",
       "\n",
       "    .dataframe thead th {\n",
       "        text-align: right;\n",
       "    }\n",
       "</style>\n",
       "<table border=\"1\" class=\"dataframe\">\n",
       "  <thead>\n",
       "    <tr style=\"text-align: right;\">\n",
       "      <th></th>\n",
       "      <th>sumsquare_error</th>\n",
       "      <th>aic</th>\n",
       "      <th>bic</th>\n",
       "      <th>kl_div</th>\n",
       "      <th>ks_statistic</th>\n",
       "      <th>ks_pvalue</th>\n",
       "    </tr>\n",
       "  </thead>\n",
       "  <tbody>\n",
       "    <tr>\n",
       "      <th>cauchy</th>\n",
       "      <td>9.718521e-16</td>\n",
       "      <td>5.127834e+03</td>\n",
       "      <td>-162837.075533</td>\n",
       "      <td>inf</td>\n",
       "      <td>0.091052</td>\n",
       "      <td>6.809850e-28</td>\n",
       "    </tr>\n",
       "    <tr>\n",
       "      <th>expon</th>\n",
       "      <td>2.035780e-15</td>\n",
       "      <td>1.722844e+04</td>\n",
       "      <td>-160024.280593</td>\n",
       "      <td>inf</td>\n",
       "      <td>0.306451</td>\n",
       "      <td>1.283480e-317</td>\n",
       "    </tr>\n",
       "    <tr>\n",
       "      <th>norm</th>\n",
       "      <td>1.799857e-14</td>\n",
       "      <td>1.160910e+05</td>\n",
       "      <td>-151733.793791</td>\n",
       "      <td>inf</td>\n",
       "      <td>0.366917</td>\n",
       "      <td>0.000000e+00</td>\n",
       "    </tr>\n",
       "    <tr>\n",
       "      <th>uniform</th>\n",
       "      <td>2.975688e-14</td>\n",
       "      <td>4.021697e+03</td>\n",
       "      <td>-149821.263750</td>\n",
       "      <td>inf</td>\n",
       "      <td>0.975621</td>\n",
       "      <td>0.000000e+00</td>\n",
       "    </tr>\n",
       "    <tr>\n",
       "      <th>gamma</th>\n",
       "      <td>3.011281e-14</td>\n",
       "      <td>inf</td>\n",
       "      <td>-149767.789222</td>\n",
       "      <td>NaN</td>\n",
       "      <td>0.999737</td>\n",
       "      <td>0.000000e+00</td>\n",
       "    </tr>\n",
       "  </tbody>\n",
       "</table>\n",
       "</div>"
      ],
      "text/plain": [
       "         sumsquare_error           aic            bic  kl_div  ks_statistic  \\\n",
       "cauchy      9.718521e-16  5.127834e+03 -162837.075533     inf      0.091052   \n",
       "expon       2.035780e-15  1.722844e+04 -160024.280593     inf      0.306451   \n",
       "norm        1.799857e-14  1.160910e+05 -151733.793791     inf      0.366917   \n",
       "uniform     2.975688e-14  4.021697e+03 -149821.263750     inf      0.975621   \n",
       "gamma       3.011281e-14           inf -149767.789222     NaN      0.999737   \n",
       "\n",
       "             ks_pvalue  \n",
       "cauchy    6.809850e-28  \n",
       "expon    1.283480e-317  \n",
       "norm      0.000000e+00  \n",
       "uniform   0.000000e+00  \n",
       "gamma     0.000000e+00  "
      ]
     },
     "execution_count": 62,
     "metadata": {},
     "output_type": "execute_result"
    },
    {
     "data": {
      "image/png": "[encoded data removed]",
      "text/plain": [
       "<Figure size 432x288 with 1 Axes>"
      ]
     },
     "metadata": {
      "needs_background": "light"
     },
     "output_type": "display_data"
    }
   ],
   "source": [
    "f = Fitter(price,\n",
    "           distributions=[\"uniform\", \"expon\", \"norm\", \"gamma\", \"cauchy\"])\n",
    "f.fit()\n",
    "f.summary()"
   ]
  },
  {
   "cell_type": "code",
   "execution_count": 63,
   "id": "d9972a37",
   "metadata": {},
   "outputs": [
    {
     "data": {
      "text/plain": [
       "{'cauchy': {'loc': 4179335.842967552, 'scale': 829853.6254066597}}"
      ]
     },
     "execution_count": 63,
     "metadata": {},
     "output_type": "execute_result"
    }
   ],
   "source": [
    "f.get_best(method = 'sumsquare_error')"
   ]
  },
  {
   "cell_type": "code",
   "execution_count": 64,
   "id": "c49a32ac",
   "metadata": {},
   "outputs": [
    {
     "name": "stderr",
     "output_type": "stream",
     "text": [
      "Fitting 5 distributions:   0%|                                                                   | 0/5 [00:00<?, ?it/s]SKIPPED weibull distribution (taking more than 30 seconds)\n",
      "Fitting 5 distributions: 100%|███████████████████████████████████████████████████████████| 5/5 [00:00<00:00,  9.86it/s]\n",
      "weibull was not fitted. no parameters available\n"
     ]
    },
    {
     "data": {
      "text/html": [
       "<div>\n",
       "<style scoped>\n",
       "    .dataframe tbody tr th:only-of-type {\n",
       "        vertical-align: middle;\n",
       "    }\n",
       "\n",
       "    .dataframe tbody tr th {\n",
       "        vertical-align: top;\n",
       "    }\n",
       "\n",
       "    .dataframe thead th {\n",
       "        text-align: right;\n",
       "    }\n",
       "</style>\n",
       "<table border=\"1\" class=\"dataframe\">\n",
       "  <thead>\n",
       "    <tr style=\"text-align: right;\">\n",
       "      <th></th>\n",
       "      <th>sumsquare_error</th>\n",
       "      <th>aic</th>\n",
       "      <th>bic</th>\n",
       "      <th>kl_div</th>\n",
       "      <th>ks_statistic</th>\n",
       "      <th>ks_pvalue</th>\n",
       "    </tr>\n",
       "  </thead>\n",
       "  <tbody>\n",
       "    <tr>\n",
       "      <th>laplace</th>\n",
       "      <td>1.434039e-15</td>\n",
       "      <td>4.409042e+04</td>\n",
       "      <td>-1.613571e+05</td>\n",
       "      <td>inf</td>\n",
       "      <td>0.064776</td>\n",
       "      <td>2.547874e-14</td>\n",
       "    </tr>\n",
       "    <tr>\n",
       "      <th>beta</th>\n",
       "      <td>3.439516e-15</td>\n",
       "      <td>5.221451e+04</td>\n",
       "      <td>-1.580128e+05</td>\n",
       "      <td>inf</td>\n",
       "      <td>0.110383</td>\n",
       "      <td>8.002853e-41</td>\n",
       "    </tr>\n",
       "    <tr>\n",
       "      <th>pareto</th>\n",
       "      <td>1.043934e-14</td>\n",
       "      <td>4.589924e+03</td>\n",
       "      <td>-1.537976e+05</td>\n",
       "      <td>inf</td>\n",
       "      <td>0.431381</td>\n",
       "      <td>0.000000e+00</td>\n",
       "    </tr>\n",
       "    <tr>\n",
       "      <th>lognorm</th>\n",
       "      <td>1.272209e-14</td>\n",
       "      <td>1.773173e+04</td>\n",
       "      <td>-1.530454e+05</td>\n",
       "      <td>inf</td>\n",
       "      <td>0.049617</td>\n",
       "      <td>1.407410e-08</td>\n",
       "    </tr>\n",
       "    <tr>\n",
       "      <th>weibull</th>\n",
       "      <td>inf</td>\n",
       "      <td>inf</td>\n",
       "      <td>inf</td>\n",
       "      <td>inf</td>\n",
       "      <td>NaN</td>\n",
       "      <td>NaN</td>\n",
       "    </tr>\n",
       "  </tbody>\n",
       "</table>\n",
       "</div>"
      ],
      "text/plain": [
       "         sumsquare_error           aic           bic  kl_div  ks_statistic  \\\n",
       "laplace     1.434039e-15  4.409042e+04 -1.613571e+05     inf      0.064776   \n",
       "beta        3.439516e-15  5.221451e+04 -1.580128e+05     inf      0.110383   \n",
       "pareto      1.043934e-14  4.589924e+03 -1.537976e+05     inf      0.431381   \n",
       "lognorm     1.272209e-14  1.773173e+04 -1.530454e+05     inf      0.049617   \n",
       "weibull              inf           inf           inf     inf           NaN   \n",
       "\n",
       "            ks_pvalue  \n",
       "laplace  2.547874e-14  \n",
       "beta     8.002853e-41  \n",
       "pareto   0.000000e+00  \n",
       "lognorm  1.407410e-08  \n",
       "weibull           NaN  "
      ]
     },
     "execution_count": 64,
     "metadata": {},
     "output_type": "execute_result"
    },
    {
     "data": {
      "image/png": "[encoded data removed]",
      "text/plain": [
       "<Figure size 432x288 with 1 Axes>"
      ]
     },
     "metadata": {
      "needs_background": "light"
     },
     "output_type": "display_data"
    }
   ],
   "source": [
    "f = Fitter(price,\n",
    "           distributions=[\"pareto\", \"laplace\",\"lognorm\", \"weibull\", \"beta\"])\n",
    "f.fit()\n",
    "f.summary()"
   ]
  },
  {
   "cell_type": "code",
   "execution_count": 65,
   "id": "98590261",
   "metadata": {},
   "outputs": [
    {
     "data": {
      "text/plain": [
       "{'laplace': {'loc': 4194167.0, 'scale': 1271846.5086750789}}"
      ]
     },
     "execution_count": 65,
     "metadata": {},
     "output_type": "execute_result"
    }
   ],
   "source": [
    "f.get_best(method = 'sumsquare_error')"
   ]
  },
  {
   "cell_type": "code",
   "execution_count": 67,
   "id": "dfb9dba5",
   "metadata": {},
   "outputs": [
    {
     "name": "stderr",
     "output_type": "stream",
     "text": [
      "Fitting 2 distributions: 100%|███████████████████████████████████████████████████████████| 2/2 [00:00<00:00, 51.85it/s]\n"
     ]
    },
    {
     "data": {
      "text/html": [
       "<div>\n",
       "<style scoped>\n",
       "    .dataframe tbody tr th:only-of-type {\n",
       "        vertical-align: middle;\n",
       "    }\n",
       "\n",
       "    .dataframe tbody tr th {\n",
       "        vertical-align: top;\n",
       "    }\n",
       "\n",
       "    .dataframe thead th {\n",
       "        text-align: right;\n",
       "    }\n",
       "</style>\n",
       "<table border=\"1\" class=\"dataframe\">\n",
       "  <thead>\n",
       "    <tr style=\"text-align: right;\">\n",
       "      <th></th>\n",
       "      <th>sumsquare_error</th>\n",
       "      <th>aic</th>\n",
       "      <th>bic</th>\n",
       "      <th>kl_div</th>\n",
       "      <th>ks_statistic</th>\n",
       "      <th>ks_pvalue</th>\n",
       "    </tr>\n",
       "  </thead>\n",
       "  <tbody>\n",
       "    <tr>\n",
       "      <th>cauchy</th>\n",
       "      <td>9.718521e-16</td>\n",
       "      <td>5127.834304</td>\n",
       "      <td>-162837.075533</td>\n",
       "      <td>inf</td>\n",
       "      <td>0.091052</td>\n",
       "      <td>6.809850e-28</td>\n",
       "    </tr>\n",
       "    <tr>\n",
       "      <th>laplace</th>\n",
       "      <td>1.434039e-15</td>\n",
       "      <td>44090.418556</td>\n",
       "      <td>-161357.142032</td>\n",
       "      <td>inf</td>\n",
       "      <td>0.064776</td>\n",
       "      <td>2.547874e-14</td>\n",
       "    </tr>\n",
       "  </tbody>\n",
       "</table>\n",
       "</div>"
      ],
      "text/plain": [
       "         sumsquare_error           aic            bic  kl_div  ks_statistic  \\\n",
       "cauchy      9.718521e-16   5127.834304 -162837.075533     inf      0.091052   \n",
       "laplace     1.434039e-15  44090.418556 -161357.142032     inf      0.064776   \n",
       "\n",
       "            ks_pvalue  \n",
       "cauchy   6.809850e-28  \n",
       "laplace  2.547874e-14  "
      ]
     },
     "execution_count": 67,
     "metadata": {},
     "output_type": "execute_result"
    },
    {
     "data": {
      "image/png": "[encoded data removed]",
      "text/plain": [
       "<Figure size 432x288 with 1 Axes>"
      ]
     },
     "metadata": {
      "needs_background": "light"
     },
     "output_type": "display_data"
    }
   ],
   "source": [
    "f = Fitter(price,\n",
    "           distributions=[\"cauchy\", \"laplace\"])\n",
    "f.fit()\n",
    "f.summary()"
   ]
  },
  {
   "cell_type": "code",
   "execution_count": 68,
   "id": "3c72500a",
   "metadata": {},
   "outputs": [
    {
     "data": {
      "text/plain": [
       "{'cauchy': {'loc': 4179335.842967552, 'scale': 829853.6254066597}}"
      ]
     },
     "execution_count": 68,
     "metadata": {},
     "output_type": "execute_result"
    }
   ],
   "source": [
    "f.get_best(method = 'sumsquare_error')"
   ]
  },
  {
   "cell_type": "code",
   "execution_count": 3,
   "id": "642c45f8",
   "metadata": {},
   "outputs": [
    {
     "name": "stdout",
     "output_type": "stream",
     "text": [
      "<bound method NDFrame.head of           price        date      time    geo_lat    geo_lon  region  \\\n",
      "0       4704280  2018-03-04  12:35:25  55.621097  37.431002       3   \n",
      "1       3590000  2018-06-04  12:36:14  55.949321  37.180294      81   \n",
      "2       5158890  2018-08-13  10:43:29  55.748595  37.925296      81   \n",
      "3       6950000  2018-08-30  16:43:06  55.879264  37.313741      81   \n",
      "4       8686800  2018-09-08  00:45:12  55.673715  37.745559       3   \n",
      "...         ...         ...       ...        ...        ...     ...   \n",
      "25250   7964222  2021-05-01  18:01:46  55.572432  37.475523       3   \n",
      "25251  13881660  2021-05-01  18:18:41  55.744218  37.407501       3   \n",
      "25252   4260000  2021-05-01  18:55:42  55.584586  38.226547      81   \n",
      "25253   6890000  2021-05-01  19:03:41  55.471063  37.545867      81   \n",
      "25254   8000000  2021-05-01  19:34:40  55.644999  37.860946      81   \n",
      "\n",
      "       building_type  level  levels  rooms  area  kitchen_area  object_type  \n",
      "0                  2      1      25      1  31.7           6.0           11  \n",
      "1                  2      3      15      1  36.0          11.3            1  \n",
      "2                  2      1       6      1  60.1          11.1           11  \n",
      "3                  2      3       4      1  48.6          12.0            1  \n",
      "4                  2      2      15      1  45.7          12.7           11  \n",
      "...              ...    ...     ...    ...   ...           ...          ...  \n",
      "25250              2      2      16      1  42.0          20.9           11  \n",
      "25251              2      2      33      1  50.0          26.1           11  \n",
      "25252              2      2      22      1  39.0           9.0            1  \n",
      "25253              2      2      16      1  40.0          12.4            1  \n",
      "25254              2      1      22      1  44.0          12.0            1  \n",
      "\n",
      "[25255 rows x 13 columns]>\n"
     ]
    }
   ],
   "source": [
    "dataset = pd.read_csv('1moskow_1_rooms_fist_floors(1-3)_Monolithic.csv')\n",
    "print(dataset.head)"
   ]
  },
  {
   "cell_type": "code",
   "execution_count": 4,
   "id": "e1d1b3fa",
   "metadata": {
    "scrolled": true
   },
   "outputs": [
    {
     "name": "stdout",
     "output_type": "stream",
     "text": [
      "<bound method NDFrame.head of          price        date      time    geo_lat    geo_lon  region  \\\n",
      "0      5500000  2018-09-08  00:56:00  55.816377  37.965619      81   \n",
      "1      1950000  2018-09-08  01:56:19  54.921458  37.418644      81   \n",
      "2      3150000  2018-09-08  02:17:05  55.791461  37.977087      81   \n",
      "3      2800000  2018-09-08  07:39:04  54.943634  37.399390      81   \n",
      "4      5100000  2018-09-08  10:06:14  55.596320  37.614500       3   \n",
      "...        ...         ...       ...        ...        ...     ...   \n",
      "32004  8100000  2021-05-01  17:20:47  55.746134  37.703171       3   \n",
      "32005  6800000  2021-05-01  18:11:40  55.626145  37.309440       3   \n",
      "32006  9251520  2021-05-01  18:37:49  55.700399  37.960624      81   \n",
      "32007  6250000  2021-05-01  18:53:43  55.571951  37.618659      81   \n",
      "32008  3870000  2021-05-01  18:53:45  55.925952  37.999887      81   \n",
      "\n",
      "       building_type  level  levels  rooms  area  kitchen_area  object_type  \n",
      "0                  1      3      16      1  55.0          18.0            1  \n",
      "1                  1      3      16      1  36.0           9.0            1  \n",
      "2                  1      1      17      1  32.1          11.0            1  \n",
      "3                  1      1      16      1  39.0          10.0           11  \n",
      "4                  1      1      12      1  31.0           6.0            1  \n",
      "...              ...    ...     ...    ...   ...           ...          ...  \n",
      "32004              1      2       9      1  26.0           6.0            1  \n",
      "32005              1      2      16      1  46.0          12.5            1  \n",
      "32006              1      2      25      1  41.0          16.0           11  \n",
      "32007              1      2      25      1  36.0          10.1           11  \n",
      "32008              1      2       9      1  34.0           7.0            1  \n",
      "\n",
      "[32009 rows x 13 columns]>\n"
     ]
    }
   ],
   "source": [
    "dataset = pd.read_csv('1moskow_1_rooms_fist_floors(1-3)_Pannel.csv')\n",
    "print(dataset.head)"
   ]
  },
  {
   "cell_type": "code",
   "execution_count": 6,
   "id": "aac2cceb",
   "metadata": {
    "scrolled": true
   },
   "outputs": [
    {
     "name": "stdout",
     "output_type": "stream",
     "text": [
      "<bound method NDFrame.head of           price        date      time    geo_lat    geo_lon  region  \\\n",
      "0       2500000  2018-04-14  15:29:34  54.886223  38.082710      81   \n",
      "1       2200000  2018-05-16  11:09:14  54.893461  38.078939      81   \n",
      "2       2750000  2018-06-05  13:41:12  55.740321  38.022801      81   \n",
      "3       2650000  2018-09-01  18:12:19  55.963407  37.912638      81   \n",
      "4       2400000  2018-09-08  06:48:37  56.750867  37.196887      81   \n",
      "...         ...         ...       ...        ...        ...     ...   \n",
      "16346   2200000  2021-05-01  16:27:49  56.515746  38.091344      81   \n",
      "16347   6000000  2021-05-01  16:42:44  55.642133  37.857045      81   \n",
      "16348   9999999  2021-05-01  17:26:43  55.873771  37.547925       3   \n",
      "16349  12300000  2021-05-01  19:41:38  55.788469  37.557565       3   \n",
      "16350   3600000  2021-05-01  19:45:41  56.264430  38.212614      81   \n",
      "\n",
      "       building_type  level  levels  rooms  area  kitchen_area  object_type  \n",
      "0                  3      4       9      1  33.0           6.0            1  \n",
      "1                  3      4       5      1  31.0           6.0            1  \n",
      "2                  3      5       5      1  32.0           6.0            1  \n",
      "3                  3      4       5      1  33.0           6.0            1  \n",
      "4                  3      4       4      1  35.0           6.2            1  \n",
      "...              ...    ...     ...    ...   ...           ...          ...  \n",
      "16346              3      4       5      1  35.0           7.0            1  \n",
      "16347              3      5      17      1  45.0          11.3            1  \n",
      "16348              3      4      18      1  35.0          10.0            1  \n",
      "16349              3      5      12      1  29.0           4.0            1  \n",
      "16350              3      4       5      1  46.0          14.0            1  \n",
      "\n",
      "[16351 rows x 13 columns]>\n"
     ]
    }
   ],
   "source": [
    "dataset = pd.read_csv('1moskow_1_rooms_middle_floors(4-5)_Brick.csv')\n",
    "print(dataset.head)"
   ]
  },
  {
   "cell_type": "code",
   "execution_count": 7,
   "id": "871b8946",
   "metadata": {
    "scrolled": true
   },
   "outputs": [
    {
     "name": "stdout",
     "output_type": "stream",
     "text": [
      "<bound method NDFrame.head of          price        date      time    geo_lat    geo_lon  region  \\\n",
      "0      3999000  2018-09-08  03:28:42  55.918782  37.748277      81   \n",
      "1      5290320  2018-09-08  07:45:59  55.671340  37.416133       3   \n",
      "2      5124540  2018-09-08  07:46:02  55.671340  37.416133       3   \n",
      "3      5680120  2018-09-08  07:46:09  55.671340  37.416133       3   \n",
      "4      3521440  2018-09-08  07:46:10  55.671340  37.416133       3   \n",
      "...        ...         ...       ...        ...        ...     ...   \n",
      "17676  9036390  2021-05-01  16:47:36  55.886918  37.534136       3   \n",
      "17677  7200000  2021-05-01  17:13:45  55.630798  37.853825      81   \n",
      "17678  5493080  2021-05-01  18:37:47  55.796389  37.938283      81   \n",
      "17679  6350000  2021-05-01  18:41:37  55.699030  37.957773      81   \n",
      "17680  7295370  2021-05-01  18:53:48  55.882031  37.501837       3   \n",
      "\n",
      "       building_type  level  levels  rooms   area  kitchen_area  object_type  \n",
      "0                  2      4      16      1  34.00          8.50            1  \n",
      "1                  2      4      33      1  40.20         18.90           11  \n",
      "2                  2      4      33      1  38.30         16.30           11  \n",
      "3                  2      4      33      1  42.20         18.90           11  \n",
      "4                  2      4      33      1  20.80          5.00           11  \n",
      "...              ...    ...     ...    ...    ...           ...          ...  \n",
      "17676              2      5      16      1  43.34         22.03           11  \n",
      "17677              2      4      13      1  43.00         10.00            1  \n",
      "17678              2      4      16      1  35.00         17.00           11  \n",
      "17679              2      5      17      1  35.00         15.30            1  \n",
      "17680              2      4      33      1  32.00         16.20           11  \n",
      "\n",
      "[17681 rows x 13 columns]>\n"
     ]
    }
   ],
   "source": [
    "dataset = pd.read_csv('1moskow_1_rooms_middle_floors(4-5)_Monolithic.csv')\n",
    "print(dataset.head)"
   ]
  },
  {
   "cell_type": "code",
   "execution_count": 8,
   "id": "774d656c",
   "metadata": {
    "scrolled": true
   },
   "outputs": [
    {
     "name": "stdout",
     "output_type": "stream",
     "text": [
      "<bound method NDFrame.head of           price        date      time    geo_lat    geo_lon  region  \\\n",
      "0       3300000  2018-03-02  21:18:42  55.908253  37.726448      81   \n",
      "1       6350000  2018-09-08  00:28:01  55.711580  37.395611       3   \n",
      "2       3500000  2018-09-08  03:09:48  55.594713  38.250355      81   \n",
      "3       6000000  2018-09-08  05:08:11  55.540730  37.489967       3   \n",
      "4       1600000  2018-09-08  07:42:00  55.781347  38.668630      81   \n",
      "...         ...         ...       ...        ...        ...     ...   \n",
      "19502   7547300  2021-05-01  16:44:59  55.542958  37.479919       3   \n",
      "19503   6625920  2021-05-01  16:54:46  55.545913  37.590000      81   \n",
      "19504   5400000  2021-05-01  17:05:45  55.662410  37.922082      81   \n",
      "19505  12500000  2021-05-01  17:23:42  55.668191  37.763951       3   \n",
      "19506   9388470  2021-05-01  18:36:42  55.805422  37.754179       3   \n",
      "\n",
      "       building_type  level  levels  rooms  area  kitchen_area  object_type  \n",
      "0                  1      4       5      1  32.0           6.0            1  \n",
      "1                  1      4      12      1  42.6           8.5            1  \n",
      "2                  1      4      14      1  41.0          11.0            1  \n",
      "3                  1      5      14      1  40.0          10.0            1  \n",
      "4                  1      5       5      1  31.0           6.0            1  \n",
      "...              ...    ...     ...    ...   ...           ...          ...  \n",
      "19502              1      5      17      1  35.5          17.0           11  \n",
      "19503              1      5      25      1  35.0          17.0           11  \n",
      "19504              1      5       9      1  34.0           6.5            1  \n",
      "19505              1      5      14      1  53.0          13.0            1  \n",
      "19506              1      5      33      1  39.0          15.1           11  \n",
      "\n",
      "[19507 rows x 13 columns]>\n"
     ]
    }
   ],
   "source": [
    "dataset = pd.read_csv('1moskow_1_rooms_middle_floors(4-5)_Pannel.csv')\n",
    "print(dataset.head)"
   ]
  },
  {
   "cell_type": "code",
   "execution_count": 10,
   "id": "d20b2e05",
   "metadata": {
    "scrolled": true
   },
   "outputs": [
    {
     "name": "stdout",
     "output_type": "stream",
     "text": [
      "<bound method NDFrame.head of          price        date      time    geo_lat    geo_lon  region  \\\n",
      "0      3750000  2018-08-13  20:00:52  55.577467  38.205256      81   \n",
      "1      4080000  2018-09-08  03:57:23  55.572935  38.254954      81   \n",
      "2      4080000  2018-09-08  04:45:31  55.575290  38.253220      81   \n",
      "3      3700000  2018-09-08  07:06:02  55.594620  38.250268      81   \n",
      "4      4200000  2018-09-08  07:34:16  55.638588  37.220860      81   \n",
      "...        ...         ...       ...        ...        ...     ...   \n",
      "19182  7550000  2021-05-01  15:53:47  56.003377  37.852641      81   \n",
      "19183  6300000  2021-05-01  16:16:54  56.016597  37.856263      81   \n",
      "19184  1400000  2021-05-01  16:35:43  55.733273  38.957517      81   \n",
      "19185  8650000  2021-05-01  16:43:49  55.653853  37.407079       3   \n",
      "19186  8900000  2021-05-01  18:12:39  55.691963  37.620833       3   \n",
      "\n",
      "       building_type  level  levels  rooms  area  kitchen_area  object_type  \n",
      "0                  3      6      10      1  42.5          10.6            1  \n",
      "1                  3      9      17      1  48.0          20.0            1  \n",
      "2                  3      9       9      1  45.0          14.0            1  \n",
      "3                  3     13      14      1  42.0          10.0            1  \n",
      "4                  3      7      12      1  36.0          18.8            1  \n",
      "...              ...    ...     ...    ...   ...           ...          ...  \n",
      "19182              3     17      20      1  55.0          14.4            1  \n",
      "19183              3      6      18      1  38.0          11.0            1  \n",
      "19184              3      7       9      1  29.0           7.0            1  \n",
      "19185              3     11      14      1  38.0           8.0            1  \n",
      "19186              3      6       8      1  32.0           6.0            1  \n",
      "\n",
      "[19187 rows x 13 columns]>\n"
     ]
    }
   ],
   "source": [
    "dataset = pd.read_csv('1moskow_1_rooms_upper_floors(6+)_Brick.csv')\n",
    "print(dataset.head)"
   ]
  },
  {
   "cell_type": "code",
   "execution_count": 11,
   "id": "c00fa9e2",
   "metadata": {},
   "outputs": [
    {
     "name": "stdout",
     "output_type": "stream",
     "text": [
      "<bound method NDFrame.head of           price        date      time    geo_lat    geo_lon  region  \\\n",
      "0       4279770  2018-03-06  18:40:08  55.781715  37.856656      81   \n",
      "1       4600000  2018-04-02  15:09:38  55.707834  37.959639      81   \n",
      "2       3690000  2018-08-13  23:47:42  55.577467  38.205256      81   \n",
      "3       5100000  2018-09-08  01:55:05  55.684681  37.901314      81   \n",
      "4       4250000  2018-09-08  07:13:50  56.006301  37.852931      81   \n",
      "...         ...         ...       ...        ...        ...     ...   \n",
      "95128  31900000  2021-05-01  20:06:39  55.722163  37.618498       3   \n",
      "95129  12423200  2021-05-01  20:09:02  55.805465  37.714470       3   \n",
      "95130  12039040  2021-05-01  20:09:08  55.841415  37.489624       3   \n",
      "95131  12645450  2021-05-01  20:10:02  55.841415  37.489624       3   \n",
      "95132  12850000  2021-05-01  20:13:47  55.701280  37.642654       3   \n",
      "\n",
      "       building_type  level  levels  rooms  area  kitchen_area  object_type  \n",
      "0                  2      7      15      1  36.3          16.6           11  \n",
      "1                  2     17      17      1  37.0          12.5            1  \n",
      "2                  2      6      10      1  43.0          11.0            1  \n",
      "3                  2     20      25      1  44.3          11.1            1  \n",
      "4                  2     15      17      1  48.2          12.0            1  \n",
      "...              ...    ...     ...    ...   ...           ...          ...  \n",
      "95128              2      9      17      1  64.0          20.4            1  \n",
      "95129              2     25      31      1  42.4          12.4           11  \n",
      "95130              2     20      21      1  41.6          21.0           11  \n",
      "95131              2     26      32      1  45.9          23.8           11  \n",
      "95132              2     12      24      1  41.0           9.0            1  \n",
      "\n",
      "[95133 rows x 13 columns]>\n"
     ]
    }
   ],
   "source": [
    "dataset = pd.read_csv('1moskow_1_rooms_upper_floors(6+)_Monolithic.csv')\n",
    "print(dataset.head)"
   ]
  },
  {
   "cell_type": "code",
   "execution_count": 12,
   "id": "5f85ba15",
   "metadata": {
    "scrolled": true
   },
   "outputs": [
    {
     "name": "stdout",
     "output_type": "stream",
     "text": [
      "<bound method NDFrame.head of           price        date      time    geo_lat    geo_lon  region  \\\n",
      "0       4291950  2018-03-06  18:37:27  55.913950  37.707712      81   \n",
      "1      11500000  2018-04-18  21:52:41  55.701330  37.507412       3   \n",
      "2       5750000  2018-06-20  15:52:13  55.704428  37.766989       3   \n",
      "3       4235680  2018-08-04  07:43:29  55.696845  37.907325      81   \n",
      "4       4368880  2018-08-27  13:09:09  55.704271  37.942044       3   \n",
      "...         ...         ...       ...        ...        ...     ...   \n",
      "61288   5350620  2021-05-01  18:24:43  55.783287  37.257977      81   \n",
      "61289   9000000  2021-05-01  18:51:45  55.640589  37.770573       3   \n",
      "61290   6077980  2021-05-01  18:54:45  55.627693  37.930237      81   \n",
      "61291   6665190  2021-05-01  19:00:46  55.545913  37.590000      81   \n",
      "61292  10295730  2021-05-01  20:11:07  55.848186  37.561906       3   \n",
      "\n",
      "       building_type  level  levels  rooms  area  kitchen_area  object_type  \n",
      "0                  1     10      14      1  40.3          11.0           11  \n",
      "1                  1     14      17      1  42.0          12.0            1  \n",
      "2                  1      8       9      1  32.0           6.0            1  \n",
      "3                  1     25      25      1  36.8           9.3           11  \n",
      "4                  1     13      17      1  38.8           7.4           11  \n",
      "...              ...    ...     ...    ...   ...           ...          ...  \n",
      "61288              1      9       9      1  36.0          10.3           11  \n",
      "61289              1     11      14      1  39.0           8.6            1  \n",
      "61290              1     23      25      1  36.0          17.1           11  \n",
      "61291              1      6      25      1  35.0          17.0           11  \n",
      "61292              1     18      19      1  41.7          16.6           11  \n",
      "\n",
      "[61293 rows x 13 columns]>\n"
     ]
    }
   ],
   "source": [
    "dataset = pd.read_csv('1moskow_1_rooms_upper_floors(6+)_Pannel.csv')\n",
    "print(dataset.head)"
   ]
  },
  {
   "cell_type": "code",
   "execution_count": 15,
   "id": "c88982ab",
   "metadata": {},
   "outputs": [
    {
     "name": "stdout",
     "output_type": "stream",
     "text": [
      "<bound method NDFrame.head of           price        date      time    geo_lat    geo_lon  region  \\\n",
      "0       5300000  2018-03-30  12:08:09  54.885280  38.080196      81   \n",
      "1       1500000  2018-06-18  13:01:53  54.888697  38.605205      81   \n",
      "2       6990000  2018-07-17  12:50:34  55.723813  37.434764       3   \n",
      "3       3100000  2018-08-03  12:13:13  56.306255  38.150266      81   \n",
      "4       2600000  2018-09-08  00:52:53  55.714731  38.210455      81   \n",
      "...         ...         ...       ...        ...        ...     ...   \n",
      "59987   5000000  2021-05-01  18:01:45  56.182744  36.995182      81   \n",
      "59988  14900000  2021-05-01  18:05:44  55.760804  37.801265       3   \n",
      "59989  10700000  2021-05-01  18:45:43  55.425136  37.520446      81   \n",
      "59990   5980000  2021-05-01  19:12:46  56.013130  37.461025      81   \n",
      "59991   3850000  2021-05-01  19:45:36  55.625307  38.125921      81   \n",
      "\n",
      "       building_type  level  levels  rooms  area  kitchen_area  object_type  \n",
      "0                  3      2       5      3  75.0           9.0            1  \n",
      "1                  3      2       2      2  40.0           6.0            1  \n",
      "2                  3      1       5      2  44.0           6.0            1  \n",
      "3                  3      3       5      3  57.0           6.0            1  \n",
      "4                  3      2       5      2  50.0          30.0            1  \n",
      "...              ...    ...     ...    ...   ...           ...          ...  \n",
      "59987              3      1       5      3  57.0           6.2            1  \n",
      "59988              3      3       5      3  73.0           8.0            1  \n",
      "59989              3      1      14      2  73.0          16.0            1  \n",
      "59990              3      1       4      2  45.0           5.0            1  \n",
      "59991              3      2       5      2  40.0           6.0            1  \n",
      "\n",
      "[59992 rows x 13 columns]>\n"
     ]
    }
   ],
   "source": [
    "dataset = pd.read_csv('1moskow_2-3_rooms_fist_floors(1-3)_Brick.csv')\n",
    "print(dataset.head)"
   ]
  },
  {
   "cell_type": "code",
   "execution_count": 16,
   "id": "070d2516",
   "metadata": {
    "scrolled": true
   },
   "outputs": [
    {
     "name": "stdout",
     "output_type": "stream",
     "text": [
      "<bound method NDFrame.head of           price        date      time    geo_lat    geo_lon  region  \\\n",
      "0       8677850  2018-08-04  09:37:24  55.915306  37.720106      81   \n",
      "1      10500000  2018-09-08  00:10:33  55.567722  37.444569       3   \n",
      "2      13293000  2018-09-08  01:23:56  55.790968  37.475395       3   \n",
      "3       7544000  2018-09-08  03:40:34  55.886839  37.180513      81   \n",
      "4       2500000  2018-09-08  06:07:44  55.910634  38.050704      81   \n",
      "...         ...         ...       ...        ...        ...     ...   \n",
      "36031  14501640  2021-05-01  18:50:46  55.572883  37.513689       3   \n",
      "36032  12922650  2021-05-01  19:18:45  55.633950  37.425432       3   \n",
      "36033  10650000  2021-05-01  20:06:38  55.668320  37.858000      81   \n",
      "36034  13753150  2021-05-01  20:10:31  55.815317  37.426025       3   \n",
      "36035  23319120  2021-05-01  20:11:03  55.853728  37.620905       3   \n",
      "\n",
      "       building_type  level  levels  rooms   area  kitchen_area  object_type  \n",
      "0                  2      2      14      3  88.10         10.60           11  \n",
      "1                  2      2       8      3  62.00          4.00            1  \n",
      "2                  2      3      14      2  64.40         14.00           11  \n",
      "3                  2      3      18      2  57.50         20.00           11  \n",
      "4                  2      2       5      2  58.00         12.00            1  \n",
      "...              ...    ...     ...    ...    ...           ...          ...  \n",
      "36031              2      2      16      3  81.00         15.60           11  \n",
      "36032              2      3      22      2  58.00          9.70           11  \n",
      "36033              2      3      17      2  80.00         13.00            1  \n",
      "36034              2      1      13      2  58.90         11.20           11  \n",
      "36035              2      2      11      3  96.36         23.21           11  \n",
      "\n",
      "[36036 rows x 13 columns]>\n"
     ]
    }
   ],
   "source": [
    "dataset = pd.read_csv('1moskow_2-3_rooms_fist_floors(1-3)_Monolithic.csv')\n",
    "print(dataset.head)"
   ]
  },
  {
   "cell_type": "code",
   "execution_count": 17,
   "id": "8161160d",
   "metadata": {
    "scrolled": true
   },
   "outputs": [
    {
     "name": "stdout",
     "output_type": "stream",
     "text": [
      "<bound method NDFrame.head of           price        date      time    geo_lat    geo_lon  region  \\\n",
      "0       4550000  2018-05-16  11:32:28  55.958999  38.035054      81   \n",
      "1       5399940  2018-08-04  07:39:22  55.702945  37.887114      81   \n",
      "2       6800000  2018-08-16  12:27:34  55.683246  37.868902      81   \n",
      "3       2500000  2018-08-27  13:02:23  55.764956  38.446071      81   \n",
      "4       6217920  2018-08-30  12:52:35  55.704271  37.942044       3   \n",
      "...         ...         ...       ...        ...        ...     ...   \n",
      "59972   6300000  2021-05-01  17:58:41  55.534016  37.640237      81   \n",
      "59973  11693700  2021-05-01  17:59:46  56.005770  37.856277      81   \n",
      "59974   8990000  2021-05-01  18:06:46  55.994655  37.169959       3   \n",
      "59975   7300000  2021-05-01  19:11:43  55.855996  37.128690      81   \n",
      "59976   3050000  2021-05-01  19:32:48  55.797025  38.954105      81   \n",
      "\n",
      "       building_type  level  levels  rooms  area  kitchen_area  object_type  \n",
      "0                  1      2      16      2  56.5          11.0            1  \n",
      "1                  1      2      16      2  60.2          11.2           11  \n",
      "2                  1      1      14      3  68.0           9.0            1  \n",
      "3                  1      3       5      2  44.0           6.0            1  \n",
      "4                  1      2      17      2  61.2          12.6           11  \n",
      "...              ...    ...     ...    ...   ...           ...          ...  \n",
      "59972              1      3       9      2  33.0          11.0            1  \n",
      "59973              1      3       9      2  71.0          21.7           11  \n",
      "59974              1      2      14      2  62.0           8.7            1  \n",
      "59975              1      2      10      3  67.0          12.0            1  \n",
      "59976              1      3       5      3  44.0          23.0            1  \n",
      "\n",
      "[59977 rows x 13 columns]>\n"
     ]
    }
   ],
   "source": [
    "dataset = pd.read_csv('1moskow_2-3_rooms_fist_floors(1-3)_Pannel.csv')\n",
    "print(dataset.head)"
   ]
  },
  {
   "cell_type": "code",
   "execution_count": 19,
   "id": "92142420",
   "metadata": {
    "scrolled": true
   },
   "outputs": [
    {
     "name": "stdout",
     "output_type": "stream",
     "text": [
      "<bound method NDFrame.head of           price        date      time    geo_lat    geo_lon  region  \\\n",
      "0       8650000  2018-02-27  12:04:54  55.683807  37.297405      81   \n",
      "1       4250000  2018-04-18  21:46:21  55.577999  39.517491      81   \n",
      "2       5300000  2018-06-13  10:40:59  55.579979  38.248528      81   \n",
      "3       3750000  2018-08-18  07:39:01  55.411554  36.716229      81   \n",
      "4       4100000  2018-09-08  07:51:03  56.006005  37.843842      81   \n",
      "...         ...         ...       ...        ...        ...     ...   \n",
      "31287   7100000  2021-05-01  18:06:45  55.153749  37.472367      81   \n",
      "31288  56500000  2021-05-01  18:28:42  55.765712  37.602764       3   \n",
      "31289   9500000  2021-05-01  19:02:39  55.723924  37.789206       3   \n",
      "31290  23000000  2021-05-01  19:20:43  55.744409  37.632990       3   \n",
      "31291   6400000  2021-05-01  20:13:41  55.904292  37.984368      81   \n",
      "\n",
      "       building_type  level  levels  rooms  area  kitchen_area  object_type  \n",
      "0                  3      5      24      2  69.1          12.0            1  \n",
      "1                  3      5       9      2  70.0          13.0            1  \n",
      "2                  3      4       9      2  60.0          10.0            1  \n",
      "3                  3      4       5      3  50.5           6.2            1  \n",
      "4                  3      5       9      2  50.0           8.5            1  \n",
      "...              ...    ...     ...    ...   ...           ...          ...  \n",
      "31287              3      5       9      3  64.0           6.0            1  \n",
      "31288              3      4       6      3  92.0           9.0            1  \n",
      "31289              3      4       4      3  49.0           6.0            1  \n",
      "31290              3      4       9      2  50.0           9.0            1  \n",
      "31291              3      4      17      3  82.0          10.6            1  \n",
      "\n",
      "[31292 rows x 13 columns]>\n"
     ]
    }
   ],
   "source": [
    "dataset = pd.read_csv('1moskow_2-3_rooms_middle_floors(4-5)_Brick.csv')\n",
    "print(dataset.head)"
   ]
  },
  {
   "cell_type": "code",
   "execution_count": 25,
   "id": "52c1579c",
   "metadata": {
    "scrolled": true
   },
   "outputs": [
    {
     "name": "stdout",
     "output_type": "stream",
     "text": [
      "<bound method NDFrame.head of           price        date      time    geo_lat    geo_lon  region  \\\n",
      "0       3150000  2018-09-01  12:58:41  55.802925  38.457947      81   \n",
      "1      18974540  2018-09-08  01:23:38  55.790968  37.475395       3   \n",
      "2       9424480  2018-09-08  07:45:57  55.671340  37.416133       3   \n",
      "3       2900000  2018-09-08  10:13:05  55.353415  37.538695      81   \n",
      "4       4550000  2018-09-08  11:22:42  55.980060  37.738575      81   \n",
      "...         ...         ...       ...        ...        ...     ...   \n",
      "24923  16489791  2021-05-01  19:10:46  55.572883  37.513689       3   \n",
      "24924  18131850  2021-05-01  19:27:46  55.633950  37.425432       3   \n",
      "24925  13114350  2021-05-01  20:08:18  55.722433  37.774865       3   \n",
      "24926  17140700  2021-05-01  20:09:31  55.553900  37.553981       3   \n",
      "24927  13403880  2021-05-01  20:11:11  55.860064  37.540592       3   \n",
      "\n",
      "       building_type  level  levels  rooms  area  kitchen_area  object_type  \n",
      "0                  2      4      17      2  53.0           8.5            1  \n",
      "1                  2      4      14      3  88.3          14.1           11  \n",
      "2                  2      4      33      3  78.8          24.0           11  \n",
      "3                  2      4      17      2  68.0          13.0           11  \n",
      "4                  2      5      17      2  69.5          14.3            1  \n",
      "...              ...    ...     ...    ...   ...           ...          ...  \n",
      "24923              2      4      16      3  83.0          20.1           11  \n",
      "24924              2      4      22      3  81.0          10.0           11  \n",
      "24925              2      5      17      2  57.9          20.9           11  \n",
      "24926              2      4      17      3  90.5          19.1           11  \n",
      "24927              2      4      23      2  59.1          20.8           11  \n",
      "\n",
      "[24928 rows x 13 columns]>\n"
     ]
    }
   ],
   "source": [
    "dataset = pd.read_csv('1moskow_2-3_rooms_middle_floors(4-5)_Monolithic.csv')\n",
    "print(dataset.head)"
   ]
  },
  {
   "cell_type": "code",
   "execution_count": 24,
   "id": "9cc391d5",
   "metadata": {},
   "outputs": [
    {
     "name": "stdout",
     "output_type": "stream",
     "text": [
      "<bound method NDFrame.head of           price        date      time    geo_lat    geo_lon  region  \\\n",
      "0       6522650  2018-03-06  18:37:35  55.913950  37.707712      81   \n",
      "1       8000000  2018-03-17  06:46:32  55.738876  37.825370       3   \n",
      "2       2800000  2018-04-05  20:25:27  55.942876  37.976462      81   \n",
      "3       2750000  2018-04-14  15:29:34  54.893745  38.075084      81   \n",
      "4       2200000  2018-04-14  15:29:36  54.876962  38.155205      81   \n",
      "...         ...         ...       ...        ...        ...     ...   \n",
      "38236  13500000  2021-05-01  18:06:45  55.597150  37.591940       3   \n",
      "38237   2650000  2021-05-01  18:19:45  55.488606  36.032603      81   \n",
      "38238   5950000  2021-05-01  18:45:46  55.926326  37.817329      81   \n",
      "38239   4800000  2021-05-01  19:43:37  55.240338  37.538503      81   \n",
      "38240   2400000  2021-05-01  19:47:39  55.242160  37.280399      81   \n",
      "\n",
      "       building_type  level  levels  rooms  area  kitchen_area  object_type  \n",
      "0                  1      5      14      3  68.3          12.1           11  \n",
      "1                  1      5       9      2  45.0           6.0            1  \n",
      "2                  1      5       5      2  47.0           8.0            1  \n",
      "3                  1      5       5      2  44.0           6.0            1  \n",
      "4                  1      5       5      2  48.0          10.0            1  \n",
      "...              ...    ...     ...    ...   ...           ...          ...  \n",
      "38236              1      4      12      3  63.0           7.1            1  \n",
      "38237              1      5       5      2  46.0           6.0            1  \n",
      "38238              1      5       9      2  37.0           7.4            1  \n",
      "38239              1      5       5      2  54.0          10.0            1  \n",
      "38240              1      5       5      2  42.0           6.0            1  \n",
      "\n",
      "[38241 rows x 13 columns]>\n"
     ]
    }
   ],
   "source": [
    "dataset = pd.read_csv('1moskow_2-3_rooms_middle_floors(4-5)_Pannel.csv')\n",
    "print(dataset.head)"
   ]
  },
  {
   "cell_type": "code",
   "execution_count": 23,
   "id": "d9783c2d",
   "metadata": {
    "scrolled": false
   },
   "outputs": [
    {
     "name": "stdout",
     "output_type": "stream",
     "text": [
      "<bound method NDFrame.head of           price        date      time    geo_lat    geo_lon  region  \\\n",
      "0       5450000  2018-03-01  17:42:43  55.918767  37.984642      81   \n",
      "1       4400000  2018-04-14  15:29:37  54.886857  38.058376      81   \n",
      "2      20900000  2018-05-01  13:33:09  55.730785  37.631424       3   \n",
      "3       3468912  2018-05-29  23:50:20  55.450883  37.542070      81   \n",
      "4      13825000  2018-06-07  08:59:31  55.888657  37.430370      81   \n",
      "...         ...         ...       ...        ...        ...     ...   \n",
      "30340   4300000  2021-05-01  17:04:41  54.840222  38.243922      81   \n",
      "30341  10200000  2021-05-01  17:27:44  55.757850  37.835403       3   \n",
      "30342   8300000  2021-05-01  17:28:44  55.888657  37.430370      81   \n",
      "30343   9700000  2021-05-01  17:29:46  55.406746  37.812469      81   \n",
      "30344   9300000  2021-05-01  18:18:42  55.655227  37.231308      81   \n",
      "\n",
      "       building_type  level  levels  rooms   area  kitchen_area  object_type  \n",
      "0                  3     13      14      2   60.0          10.0            1  \n",
      "1                  3     11      14      2   54.0           9.0            1  \n",
      "2                  3      6      10      3   80.0           8.2            1  \n",
      "3                  3     11      20      2   63.3          12.8           11  \n",
      "4                  3      7       7      2  197.5          14.8           11  \n",
      "...              ...    ...     ...    ...    ...           ...          ...  \n",
      "30340              3      6       9      3   61.0           7.7            1  \n",
      "30341              3      9       9      3   57.0           6.0            1  \n",
      "30342              3     11      17      2   64.0          10.0            1  \n",
      "30343              3      9      10      3   80.0          11.0            1  \n",
      "30344              3     14      17      3   83.0          14.6            1  \n",
      "\n",
      "[30345 rows x 13 columns]>\n"
     ]
    }
   ],
   "source": [
    "dataset = pd.read_csv('1moskow_2-3_rooms_upper_floors(6+)_Brick.csv')\n",
    "print(dataset.head)"
   ]
  },
  {
   "cell_type": "markdown",
   "id": "a24341c9",
   "metadata": {},
   "source": [
    "# Самый большой файл #"
   ]
  },
  {
   "cell_type": "code",
   "execution_count": 26,
   "id": "91d70c4d",
   "metadata": {
    "scrolled": true
   },
   "outputs": [
    {
     "name": "stdout",
     "output_type": "stream",
     "text": [
      "<bound method NDFrame.head of            price        date      time    geo_lat    geo_lon  region  \\\n",
      "0       10200000  2018-04-07  15:23:20  55.655307  37.614605       3   \n",
      "1        5500000  2018-07-22  23:00:02  55.495187  37.554362       3   \n",
      "2        6332000  2018-08-13  10:04:00  55.563338  37.851372      81   \n",
      "3       15800000  2018-09-01  12:50:02  55.680793  37.484593       3   \n",
      "4        9590400  2018-09-08  00:30:49  55.673715  37.745559       3   \n",
      "...          ...         ...       ...        ...        ...     ...   \n",
      "136022   7293900  2021-05-01  20:10:40  55.927587  37.728987      81   \n",
      "136023  14648480  2021-05-01  20:11:09  55.861148  37.540870       3   \n",
      "136024  15720696  2021-05-01  20:12:39  55.886918  37.534136       3   \n",
      "136025  12503160  2021-05-01  20:14:01  55.841415  37.489624       3   \n",
      "136026  13316200  2021-05-01  20:14:15  55.860240  37.540356       3   \n",
      "\n",
      "        building_type  level  levels  rooms   area  kitchen_area  object_type  \n",
      "0                   2      7      14      2  52.80         10.00            1  \n",
      "1                   2     13      17      2  63.00         10.00            1  \n",
      "2                   2      7       9      3  96.70         16.60           11  \n",
      "3                   2     16      25      2  57.80          9.00            1  \n",
      "4                   2     10      15      2  53.30         10.10           11  \n",
      "...               ...    ...     ...    ...    ...           ...          ...  \n",
      "136022              2     12      17      3  59.00          5.00            1  \n",
      "136023              2     23      23      2  65.60         11.30           11  \n",
      "136024              2     33      33      3  78.84          8.78           11  \n",
      "136025              2     17      32      2  45.90          6.60           11  \n",
      "136026              2     10      23      2  55.60         20.80           11  \n",
      "\n",
      "[136027 rows x 13 columns]>\n"
     ]
    }
   ],
   "source": [
    "dataset = pd.read_csv('1moskow_2-3_rooms_upper_floors(6+)_Monolithic.csv')\n",
    "print(dataset.head)"
   ]
  },
  {
   "cell_type": "code",
   "execution_count": 69,
   "id": "b39c8be2",
   "metadata": {},
   "outputs": [],
   "source": [
    "price = np.array(dataset[['price']])\n",
    "price = price.ravel()"
   ]
  },
  {
   "cell_type": "code",
   "execution_count": 70,
   "id": "4623bbee",
   "metadata": {},
   "outputs": [
    {
     "name": "stderr",
     "output_type": "stream",
     "text": [
      "Fitting 5 distributions: 100%|███████████████████████████████████████████████████████████| 5/5 [00:00<00:00, 40.54it/s]\n"
     ]
    },
    {
     "data": {
      "text/html": [
       "<div>\n",
       "<style scoped>\n",
       "    .dataframe tbody tr th:only-of-type {\n",
       "        vertical-align: middle;\n",
       "    }\n",
       "\n",
       "    .dataframe tbody tr th {\n",
       "        vertical-align: top;\n",
       "    }\n",
       "\n",
       "    .dataframe thead th {\n",
       "        text-align: right;\n",
       "    }\n",
       "</style>\n",
       "<table border=\"1\" class=\"dataframe\">\n",
       "  <thead>\n",
       "    <tr style=\"text-align: right;\">\n",
       "      <th></th>\n",
       "      <th>sumsquare_error</th>\n",
       "      <th>aic</th>\n",
       "      <th>bic</th>\n",
       "      <th>kl_div</th>\n",
       "      <th>ks_statistic</th>\n",
       "      <th>ks_pvalue</th>\n",
       "    </tr>\n",
       "  </thead>\n",
       "  <tbody>\n",
       "    <tr>\n",
       "      <th>cauchy</th>\n",
       "      <td>9.718521e-16</td>\n",
       "      <td>5.127834e+03</td>\n",
       "      <td>-162837.075533</td>\n",
       "      <td>inf</td>\n",
       "      <td>0.091052</td>\n",
       "      <td>6.809850e-28</td>\n",
       "    </tr>\n",
       "    <tr>\n",
       "      <th>expon</th>\n",
       "      <td>2.035780e-15</td>\n",
       "      <td>1.722844e+04</td>\n",
       "      <td>-160024.280593</td>\n",
       "      <td>inf</td>\n",
       "      <td>0.306451</td>\n",
       "      <td>1.283480e-317</td>\n",
       "    </tr>\n",
       "    <tr>\n",
       "      <th>norm</th>\n",
       "      <td>1.799857e-14</td>\n",
       "      <td>1.160910e+05</td>\n",
       "      <td>-151733.793791</td>\n",
       "      <td>inf</td>\n",
       "      <td>0.366917</td>\n",
       "      <td>0.000000e+00</td>\n",
       "    </tr>\n",
       "    <tr>\n",
       "      <th>uniform</th>\n",
       "      <td>2.975688e-14</td>\n",
       "      <td>4.021697e+03</td>\n",
       "      <td>-149821.263750</td>\n",
       "      <td>inf</td>\n",
       "      <td>0.975621</td>\n",
       "      <td>0.000000e+00</td>\n",
       "    </tr>\n",
       "    <tr>\n",
       "      <th>gamma</th>\n",
       "      <td>3.011281e-14</td>\n",
       "      <td>inf</td>\n",
       "      <td>-149767.789222</td>\n",
       "      <td>NaN</td>\n",
       "      <td>0.999737</td>\n",
       "      <td>0.000000e+00</td>\n",
       "    </tr>\n",
       "  </tbody>\n",
       "</table>\n",
       "</div>"
      ],
      "text/plain": [
       "         sumsquare_error           aic            bic  kl_div  ks_statistic  \\\n",
       "cauchy      9.718521e-16  5.127834e+03 -162837.075533     inf      0.091052   \n",
       "expon       2.035780e-15  1.722844e+04 -160024.280593     inf      0.306451   \n",
       "norm        1.799857e-14  1.160910e+05 -151733.793791     inf      0.366917   \n",
       "uniform     2.975688e-14  4.021697e+03 -149821.263750     inf      0.975621   \n",
       "gamma       3.011281e-14           inf -149767.789222     NaN      0.999737   \n",
       "\n",
       "             ks_pvalue  \n",
       "cauchy    6.809850e-28  \n",
       "expon    1.283480e-317  \n",
       "norm      0.000000e+00  \n",
       "uniform   0.000000e+00  \n",
       "gamma     0.000000e+00  "
      ]
     },
     "execution_count": 70,
     "metadata": {},
     "output_type": "execute_result"
    },
    {
     "data": {
      "image/png": "[encoded data removed]",
      "text/plain": [
       "<Figure size 432x288 with 1 Axes>"
      ]
     },
     "metadata": {
      "needs_background": "light"
     },
     "output_type": "display_data"
    }
   ],
   "source": [
    "f = Fitter(price,\n",
    "           distributions=[\"uniform\", \"expon\", \"norm\", \"gamma\", \"cauchy\"])\n",
    "f.fit()\n",
    "f.summary()"
   ]
  },
  {
   "cell_type": "code",
   "execution_count": 71,
   "id": "f6b70b20",
   "metadata": {},
   "outputs": [
    {
     "data": {
      "text/plain": [
       "{'cauchy': {'loc': 4179335.842967552, 'scale': 829853.6254066597}}"
      ]
     },
     "execution_count": 71,
     "metadata": {},
     "output_type": "execute_result"
    }
   ],
   "source": [
    "f.get_best(method = 'sumsquare_error')"
   ]
  },
  {
   "cell_type": "code",
   "execution_count": 72,
   "id": "5685f4e7",
   "metadata": {},
   "outputs": [
    {
     "name": "stderr",
     "output_type": "stream",
     "text": [
      "Fitting 5 distributions:   0%|                                                                   | 0/5 [00:00<?, ?it/s]SKIPPED weibull distribution (taking more than 30 seconds)\n",
      "Fitting 5 distributions: 100%|███████████████████████████████████████████████████████████| 5/5 [00:00<00:00, 12.35it/s]\n",
      "weibull was not fitted. no parameters available\n"
     ]
    },
    {
     "data": {
      "text/html": [
       "<div>\n",
       "<style scoped>\n",
       "    .dataframe tbody tr th:only-of-type {\n",
       "        vertical-align: middle;\n",
       "    }\n",
       "\n",
       "    .dataframe tbody tr th {\n",
       "        vertical-align: top;\n",
       "    }\n",
       "\n",
       "    .dataframe thead th {\n",
       "        text-align: right;\n",
       "    }\n",
       "</style>\n",
       "<table border=\"1\" class=\"dataframe\">\n",
       "  <thead>\n",
       "    <tr style=\"text-align: right;\">\n",
       "      <th></th>\n",
       "      <th>sumsquare_error</th>\n",
       "      <th>aic</th>\n",
       "      <th>bic</th>\n",
       "      <th>kl_div</th>\n",
       "      <th>ks_statistic</th>\n",
       "      <th>ks_pvalue</th>\n",
       "    </tr>\n",
       "  </thead>\n",
       "  <tbody>\n",
       "    <tr>\n",
       "      <th>laplace</th>\n",
       "      <td>1.434039e-15</td>\n",
       "      <td>4.409042e+04</td>\n",
       "      <td>-1.613571e+05</td>\n",
       "      <td>inf</td>\n",
       "      <td>0.064776</td>\n",
       "      <td>2.547874e-14</td>\n",
       "    </tr>\n",
       "    <tr>\n",
       "      <th>beta</th>\n",
       "      <td>3.439516e-15</td>\n",
       "      <td>5.221451e+04</td>\n",
       "      <td>-1.580128e+05</td>\n",
       "      <td>inf</td>\n",
       "      <td>0.110383</td>\n",
       "      <td>8.002853e-41</td>\n",
       "    </tr>\n",
       "    <tr>\n",
       "      <th>pareto</th>\n",
       "      <td>1.043934e-14</td>\n",
       "      <td>4.589924e+03</td>\n",
       "      <td>-1.537976e+05</td>\n",
       "      <td>inf</td>\n",
       "      <td>0.431381</td>\n",
       "      <td>0.000000e+00</td>\n",
       "    </tr>\n",
       "    <tr>\n",
       "      <th>lognorm</th>\n",
       "      <td>1.272209e-14</td>\n",
       "      <td>1.773173e+04</td>\n",
       "      <td>-1.530454e+05</td>\n",
       "      <td>inf</td>\n",
       "      <td>0.049617</td>\n",
       "      <td>1.407410e-08</td>\n",
       "    </tr>\n",
       "    <tr>\n",
       "      <th>weibull</th>\n",
       "      <td>inf</td>\n",
       "      <td>inf</td>\n",
       "      <td>inf</td>\n",
       "      <td>inf</td>\n",
       "      <td>NaN</td>\n",
       "      <td>NaN</td>\n",
       "    </tr>\n",
       "  </tbody>\n",
       "</table>\n",
       "</div>"
      ],
      "text/plain": [
       "         sumsquare_error           aic           bic  kl_div  ks_statistic  \\\n",
       "laplace     1.434039e-15  4.409042e+04 -1.613571e+05     inf      0.064776   \n",
       "beta        3.439516e-15  5.221451e+04 -1.580128e+05     inf      0.110383   \n",
       "pareto      1.043934e-14  4.589924e+03 -1.537976e+05     inf      0.431381   \n",
       "lognorm     1.272209e-14  1.773173e+04 -1.530454e+05     inf      0.049617   \n",
       "weibull              inf           inf           inf     inf           NaN   \n",
       "\n",
       "            ks_pvalue  \n",
       "laplace  2.547874e-14  \n",
       "beta     8.002853e-41  \n",
       "pareto   0.000000e+00  \n",
       "lognorm  1.407410e-08  \n",
       "weibull           NaN  "
      ]
     },
     "execution_count": 72,
     "metadata": {},
     "output_type": "execute_result"
    },
    {
     "data": {
      "image/png": "[encoded data removed]",
      "text/plain": [
       "<Figure size 432x288 with 1 Axes>"
      ]
     },
     "metadata": {
      "needs_background": "light"
     },
     "output_type": "display_data"
    }
   ],
   "source": [
    "f = Fitter(price,\n",
    "           distributions=[\"pareto\", \"laplace\",\"lognorm\", \"weibull\", \"beta\"])\n",
    "f.fit()\n",
    "f.summary()"
   ]
  },
  {
   "cell_type": "code",
   "execution_count": 73,
   "id": "e0eb4d47",
   "metadata": {},
   "outputs": [
    {
     "data": {
      "text/plain": [
       "{'laplace': {'loc': 4194167.0, 'scale': 1271846.5086750789}}"
      ]
     },
     "execution_count": 73,
     "metadata": {},
     "output_type": "execute_result"
    }
   ],
   "source": [
    "f.get_best(method = 'sumsquare_error')"
   ]
  },
  {
   "cell_type": "code",
   "execution_count": 74,
   "id": "8390916d",
   "metadata": {},
   "outputs": [
    {
     "name": "stderr",
     "output_type": "stream",
     "text": [
      "Fitting 2 distributions: 100%|███████████████████████████████████████████████████████████| 2/2 [00:00<00:00, 54.07it/s]\n"
     ]
    },
    {
     "data": {
      "text/html": [
       "<div>\n",
       "<style scoped>\n",
       "    .dataframe tbody tr th:only-of-type {\n",
       "        vertical-align: middle;\n",
       "    }\n",
       "\n",
       "    .dataframe tbody tr th {\n",
       "        vertical-align: top;\n",
       "    }\n",
       "\n",
       "    .dataframe thead th {\n",
       "        text-align: right;\n",
       "    }\n",
       "</style>\n",
       "<table border=\"1\" class=\"dataframe\">\n",
       "  <thead>\n",
       "    <tr style=\"text-align: right;\">\n",
       "      <th></th>\n",
       "      <th>sumsquare_error</th>\n",
       "      <th>aic</th>\n",
       "      <th>bic</th>\n",
       "      <th>kl_div</th>\n",
       "      <th>ks_statistic</th>\n",
       "      <th>ks_pvalue</th>\n",
       "    </tr>\n",
       "  </thead>\n",
       "  <tbody>\n",
       "    <tr>\n",
       "      <th>cauchy</th>\n",
       "      <td>9.718521e-16</td>\n",
       "      <td>5127.834304</td>\n",
       "      <td>-162837.075533</td>\n",
       "      <td>inf</td>\n",
       "      <td>0.091052</td>\n",
       "      <td>6.809850e-28</td>\n",
       "    </tr>\n",
       "    <tr>\n",
       "      <th>laplace</th>\n",
       "      <td>1.434039e-15</td>\n",
       "      <td>44090.418556</td>\n",
       "      <td>-161357.142032</td>\n",
       "      <td>inf</td>\n",
       "      <td>0.064776</td>\n",
       "      <td>2.547874e-14</td>\n",
       "    </tr>\n",
       "  </tbody>\n",
       "</table>\n",
       "</div>"
      ],
      "text/plain": [
       "         sumsquare_error           aic            bic  kl_div  ks_statistic  \\\n",
       "cauchy      9.718521e-16   5127.834304 -162837.075533     inf      0.091052   \n",
       "laplace     1.434039e-15  44090.418556 -161357.142032     inf      0.064776   \n",
       "\n",
       "            ks_pvalue  \n",
       "cauchy   6.809850e-28  \n",
       "laplace  2.547874e-14  "
      ]
     },
     "execution_count": 74,
     "metadata": {},
     "output_type": "execute_result"
    },
    {
     "data": {
      "image/png": "[encoded data removed]",
      "text/plain": [
       "<Figure size 432x288 with 1 Axes>"
      ]
     },
     "metadata": {
      "needs_background": "light"
     },
     "output_type": "display_data"
    }
   ],
   "source": [
    "f = Fitter(price,\n",
    "           distributions=[\"cauchy\", \"laplace\"])\n",
    "f.fit()\n",
    "f.summary()"
   ]
  },
  {
   "cell_type": "code",
   "execution_count": 75,
   "id": "38eea4de",
   "metadata": {},
   "outputs": [
    {
     "data": {
      "text/plain": [
       "{'cauchy': {'loc': 4179335.842967552, 'scale': 829853.6254066597}}"
      ]
     },
     "execution_count": 75,
     "metadata": {},
     "output_type": "execute_result"
    }
   ],
   "source": [
    "f.get_best(method = 'sumsquare_error')"
   ]
  },
  {
   "cell_type": "code",
   "execution_count": 84,
   "id": "74fd66af",
   "metadata": {},
   "outputs": [],
   "source": [
    "level = np.array(dataset[['level']])\n",
    "level = level.ravel()\n",
    "level_random = np.random.uniform(-0.49, 0.49, np.size(level))\n",
    "level = level + level_random"
   ]
  },
  {
   "cell_type": "code",
   "execution_count": 85,
   "id": "ad560a6a",
   "metadata": {},
   "outputs": [
    {
     "name": "stderr",
     "output_type": "stream",
     "text": [
      "Fitting 5 distributions: 100%|███████████████████████████████████████████████████████████| 5/5 [00:00<00:00, 62.49it/s]\n"
     ]
    },
    {
     "data": {
      "text/html": [
       "<div>\n",
       "<style scoped>\n",
       "    .dataframe tbody tr th:only-of-type {\n",
       "        vertical-align: middle;\n",
       "    }\n",
       "\n",
       "    .dataframe tbody tr th {\n",
       "        vertical-align: top;\n",
       "    }\n",
       "\n",
       "    .dataframe thead th {\n",
       "        text-align: right;\n",
       "    }\n",
       "</style>\n",
       "<table border=\"1\" class=\"dataframe\">\n",
       "  <thead>\n",
       "    <tr style=\"text-align: right;\">\n",
       "      <th></th>\n",
       "      <th>sumsquare_error</th>\n",
       "      <th>aic</th>\n",
       "      <th>bic</th>\n",
       "      <th>kl_div</th>\n",
       "      <th>ks_statistic</th>\n",
       "      <th>ks_pvalue</th>\n",
       "    </tr>\n",
       "  </thead>\n",
       "  <tbody>\n",
       "    <tr>\n",
       "      <th>gamma</th>\n",
       "      <td>0.010990</td>\n",
       "      <td>803.327251</td>\n",
       "      <td>-48493.795742</td>\n",
       "      <td>inf</td>\n",
       "      <td>0.054081</td>\n",
       "      <td>4.130933e-10</td>\n",
       "    </tr>\n",
       "    <tr>\n",
       "      <th>expon</th>\n",
       "      <td>0.018568</td>\n",
       "      <td>791.481582</td>\n",
       "      <td>-46506.815831</td>\n",
       "      <td>inf</td>\n",
       "      <td>0.080717</td>\n",
       "      <td>5.252875e-22</td>\n",
       "    </tr>\n",
       "    <tr>\n",
       "      <th>norm</th>\n",
       "      <td>0.038618</td>\n",
       "      <td>925.610478</td>\n",
       "      <td>-43721.277572</td>\n",
       "      <td>inf</td>\n",
       "      <td>0.093799</td>\n",
       "      <td>1.406990e-29</td>\n",
       "    </tr>\n",
       "    <tr>\n",
       "      <th>cauchy</th>\n",
       "      <td>0.051966</td>\n",
       "      <td>861.678276</td>\n",
       "      <td>-42592.033423</td>\n",
       "      <td>inf</td>\n",
       "      <td>0.166763</td>\n",
       "      <td>6.227055e-93</td>\n",
       "    </tr>\n",
       "    <tr>\n",
       "      <th>uniform</th>\n",
       "      <td>0.109620</td>\n",
       "      <td>668.638143</td>\n",
       "      <td>-39752.599421</td>\n",
       "      <td>inf</td>\n",
       "      <td>0.414297</td>\n",
       "      <td>0.000000e+00</td>\n",
       "    </tr>\n",
       "  </tbody>\n",
       "</table>\n",
       "</div>"
      ],
      "text/plain": [
       "         sumsquare_error         aic           bic  kl_div  ks_statistic  \\\n",
       "gamma           0.010990  803.327251 -48493.795742     inf      0.054081   \n",
       "expon           0.018568  791.481582 -46506.815831     inf      0.080717   \n",
       "norm            0.038618  925.610478 -43721.277572     inf      0.093799   \n",
       "cauchy          0.051966  861.678276 -42592.033423     inf      0.166763   \n",
       "uniform         0.109620  668.638143 -39752.599421     inf      0.414297   \n",
       "\n",
       "            ks_pvalue  \n",
       "gamma    4.130933e-10  \n",
       "expon    5.252875e-22  \n",
       "norm     1.406990e-29  \n",
       "cauchy   6.227055e-93  \n",
       "uniform  0.000000e+00  "
      ]
     },
     "execution_count": 85,
     "metadata": {},
     "output_type": "execute_result"
    },
    {
     "data": {
      "image/png": "[encoded data removed]",
      "text/plain": [
       "<Figure size 432x288 with 1 Axes>"
      ]
     },
     "metadata": {
      "needs_background": "light"
     },
     "output_type": "display_data"
    }
   ],
   "source": [
    "f = Fitter(level,\n",
    "           distributions=[\"uniform\", \"expon\", \"norm\", \"gamma\", \"cauchy\"])\n",
    "f.fit()\n",
    "f.summary()"
   ]
  },
  {
   "cell_type": "code",
   "execution_count": 86,
   "id": "ebb7a7ac",
   "metadata": {},
   "outputs": [
    {
     "data": {
      "text/plain": [
       "{'gamma': {'a': 1.395677154281378,\n",
       "  'loc': 5.471893278871538,\n",
       "  'scale': 4.995960862091133}}"
      ]
     },
     "execution_count": 86,
     "metadata": {},
     "output_type": "execute_result"
    }
   ],
   "source": [
    "f.get_best(method = 'sumsquare_error')"
   ]
  },
  {
   "cell_type": "code",
   "execution_count": 87,
   "id": "eed2ed22",
   "metadata": {},
   "outputs": [
    {
     "name": "stderr",
     "output_type": "stream",
     "text": [
      "Fitting 5 distributions:   0%|                                                                   | 0/5 [00:00<?, ?it/s]SKIPPED weibull distribution (taking more than 30 seconds)\n",
      "Fitting 5 distributions: 100%|███████████████████████████████████████████████████████████| 5/5 [00:00<00:00, 12.64it/s]\n",
      "weibull was not fitted. no parameters available\n"
     ]
    },
    {
     "data": {
      "text/html": [
       "<div>\n",
       "<style scoped>\n",
       "    .dataframe tbody tr th:only-of-type {\n",
       "        vertical-align: middle;\n",
       "    }\n",
       "\n",
       "    .dataframe tbody tr th {\n",
       "        vertical-align: top;\n",
       "    }\n",
       "\n",
       "    .dataframe thead th {\n",
       "        text-align: right;\n",
       "    }\n",
       "</style>\n",
       "<table border=\"1\" class=\"dataframe\">\n",
       "  <thead>\n",
       "    <tr style=\"text-align: right;\">\n",
       "      <th></th>\n",
       "      <th>sumsquare_error</th>\n",
       "      <th>aic</th>\n",
       "      <th>bic</th>\n",
       "      <th>kl_div</th>\n",
       "      <th>ks_statistic</th>\n",
       "      <th>ks_pvalue</th>\n",
       "    </tr>\n",
       "  </thead>\n",
       "  <tbody>\n",
       "    <tr>\n",
       "      <th>laplace</th>\n",
       "      <td>1.434039e-15</td>\n",
       "      <td>4.409042e+04</td>\n",
       "      <td>-1.613571e+05</td>\n",
       "      <td>inf</td>\n",
       "      <td>0.064776</td>\n",
       "      <td>2.547874e-14</td>\n",
       "    </tr>\n",
       "    <tr>\n",
       "      <th>beta</th>\n",
       "      <td>3.439516e-15</td>\n",
       "      <td>5.221451e+04</td>\n",
       "      <td>-1.580128e+05</td>\n",
       "      <td>inf</td>\n",
       "      <td>0.110383</td>\n",
       "      <td>8.002853e-41</td>\n",
       "    </tr>\n",
       "    <tr>\n",
       "      <th>pareto</th>\n",
       "      <td>1.043934e-14</td>\n",
       "      <td>4.589924e+03</td>\n",
       "      <td>-1.537976e+05</td>\n",
       "      <td>inf</td>\n",
       "      <td>0.431381</td>\n",
       "      <td>0.000000e+00</td>\n",
       "    </tr>\n",
       "    <tr>\n",
       "      <th>lognorm</th>\n",
       "      <td>1.272209e-14</td>\n",
       "      <td>1.773173e+04</td>\n",
       "      <td>-1.530454e+05</td>\n",
       "      <td>inf</td>\n",
       "      <td>0.049617</td>\n",
       "      <td>1.407410e-08</td>\n",
       "    </tr>\n",
       "    <tr>\n",
       "      <th>weibull</th>\n",
       "      <td>inf</td>\n",
       "      <td>inf</td>\n",
       "      <td>inf</td>\n",
       "      <td>inf</td>\n",
       "      <td>NaN</td>\n",
       "      <td>NaN</td>\n",
       "    </tr>\n",
       "  </tbody>\n",
       "</table>\n",
       "</div>"
      ],
      "text/plain": [
       "         sumsquare_error           aic           bic  kl_div  ks_statistic  \\\n",
       "laplace     1.434039e-15  4.409042e+04 -1.613571e+05     inf      0.064776   \n",
       "beta        3.439516e-15  5.221451e+04 -1.580128e+05     inf      0.110383   \n",
       "pareto      1.043934e-14  4.589924e+03 -1.537976e+05     inf      0.431381   \n",
       "lognorm     1.272209e-14  1.773173e+04 -1.530454e+05     inf      0.049617   \n",
       "weibull              inf           inf           inf     inf           NaN   \n",
       "\n",
       "            ks_pvalue  \n",
       "laplace  2.547874e-14  \n",
       "beta     8.002853e-41  \n",
       "pareto   0.000000e+00  \n",
       "lognorm  1.407410e-08  \n",
       "weibull           NaN  "
      ]
     },
     "execution_count": 87,
     "metadata": {},
     "output_type": "execute_result"
    },
    {
     "data": {
      "image/png": "[encoded data removed]",
      "text/plain": [
       "<Figure size 432x288 with 1 Axes>"
      ]
     },
     "metadata": {
      "needs_background": "light"
     },
     "output_type": "display_data"
    }
   ],
   "source": [
    "f = Fitter(price,\n",
    "           distributions=[\"pareto\", \"laplace\",\"lognorm\", \"weibull\", \"beta\"])\n",
    "f.fit()\n",
    "f.summary()"
   ]
  },
  {
   "cell_type": "code",
   "execution_count": 88,
   "id": "e32d3f8b",
   "metadata": {},
   "outputs": [
    {
     "data": {
      "text/plain": [
       "{'laplace': {'loc': 4194167.0, 'scale': 1271846.5086750789}}"
      ]
     },
     "execution_count": 88,
     "metadata": {},
     "output_type": "execute_result"
    }
   ],
   "source": [
    "f.get_best(method = 'sumsquare_error')"
   ]
  },
  {
   "cell_type": "code",
   "execution_count": 89,
   "id": "d2105a22",
   "metadata": {},
   "outputs": [
    {
     "name": "stderr",
     "output_type": "stream",
     "text": [
      "Fitting 2 distributions: 100%|███████████████████████████████████████████████████████████| 2/2 [00:00<00:00, 32.85it/s]\n"
     ]
    },
    {
     "data": {
      "text/html": [
       "<div>\n",
       "<style scoped>\n",
       "    .dataframe tbody tr th:only-of-type {\n",
       "        vertical-align: middle;\n",
       "    }\n",
       "\n",
       "    .dataframe tbody tr th {\n",
       "        vertical-align: top;\n",
       "    }\n",
       "\n",
       "    .dataframe thead th {\n",
       "        text-align: right;\n",
       "    }\n",
       "</style>\n",
       "<table border=\"1\" class=\"dataframe\">\n",
       "  <thead>\n",
       "    <tr style=\"text-align: right;\">\n",
       "      <th></th>\n",
       "      <th>sumsquare_error</th>\n",
       "      <th>aic</th>\n",
       "      <th>bic</th>\n",
       "      <th>kl_div</th>\n",
       "      <th>ks_statistic</th>\n",
       "      <th>ks_pvalue</th>\n",
       "    </tr>\n",
       "  </thead>\n",
       "  <tbody>\n",
       "    <tr>\n",
       "      <th>laplace</th>\n",
       "      <td>1.434039e-15</td>\n",
       "      <td>4.409042e+04</td>\n",
       "      <td>-161357.142032</td>\n",
       "      <td>inf</td>\n",
       "      <td>0.064776</td>\n",
       "      <td>2.547874e-14</td>\n",
       "    </tr>\n",
       "    <tr>\n",
       "      <th>gamma</th>\n",
       "      <td>3.011281e-14</td>\n",
       "      <td>inf</td>\n",
       "      <td>-149767.789222</td>\n",
       "      <td>NaN</td>\n",
       "      <td>0.999737</td>\n",
       "      <td>0.000000e+00</td>\n",
       "    </tr>\n",
       "  </tbody>\n",
       "</table>\n",
       "</div>"
      ],
      "text/plain": [
       "         sumsquare_error           aic            bic  kl_div  ks_statistic  \\\n",
       "laplace     1.434039e-15  4.409042e+04 -161357.142032     inf      0.064776   \n",
       "gamma       3.011281e-14           inf -149767.789222     NaN      0.999737   \n",
       "\n",
       "            ks_pvalue  \n",
       "laplace  2.547874e-14  \n",
       "gamma    0.000000e+00  "
      ]
     },
     "execution_count": 89,
     "metadata": {},
     "output_type": "execute_result"
    },
    {
     "data": {
      "image/png": "[encoded data removed]",
      "text/plain": [
       "<Figure size 432x288 with 1 Axes>"
      ]
     },
     "metadata": {
      "needs_background": "light"
     },
     "output_type": "display_data"
    }
   ],
   "source": [
    "f = Fitter(price,\n",
    "           distributions=[\"gamma\", \"laplace\"])\n",
    "f.fit()\n",
    "f.summary()"
   ]
  },
  {
   "cell_type": "code",
   "execution_count": 83,
   "id": "e8ba438a",
   "metadata": {},
   "outputs": [
    {
     "data": {
      "text/plain": [
       "{'laplace': {'loc': 4194167.0, 'scale': 1271846.5086750789}}"
      ]
     },
     "execution_count": 83,
     "metadata": {},
     "output_type": "execute_result"
    }
   ],
   "source": [
    "f.get_best(method = 'sumsquare_error')"
   ]
  },
  {
   "cell_type": "code",
   "execution_count": 90,
   "id": "fdd42d20",
   "metadata": {},
   "outputs": [],
   "source": [
    "levels = np.array(dataset[['levels']])\n",
    "levels = levels.ravel()\n",
    "levels_random = np.random.uniform(-0.49, 0.49, np.size(levels))\n",
    "levels = levels + levels_random"
   ]
  },
  {
   "cell_type": "code",
   "execution_count": 95,
   "id": "e1d87cd1",
   "metadata": {},
   "outputs": [
    {
     "name": "stderr",
     "output_type": "stream",
     "text": [
      "Fitting 5 distributions: 100%|███████████████████████████████████████████████████████████| 5/5 [00:00<00:00, 40.01it/s]\n"
     ]
    },
    {
     "data": {
      "text/html": [
       "<div>\n",
       "<style scoped>\n",
       "    .dataframe tbody tr th:only-of-type {\n",
       "        vertical-align: middle;\n",
       "    }\n",
       "\n",
       "    .dataframe tbody tr th {\n",
       "        vertical-align: top;\n",
       "    }\n",
       "\n",
       "    .dataframe thead th {\n",
       "        text-align: right;\n",
       "    }\n",
       "</style>\n",
       "<table border=\"1\" class=\"dataframe\">\n",
       "  <thead>\n",
       "    <tr style=\"text-align: right;\">\n",
       "      <th></th>\n",
       "      <th>sumsquare_error</th>\n",
       "      <th>aic</th>\n",
       "      <th>bic</th>\n",
       "      <th>kl_div</th>\n",
       "      <th>ks_statistic</th>\n",
       "      <th>ks_pvalue</th>\n",
       "    </tr>\n",
       "  </thead>\n",
       "  <tbody>\n",
       "    <tr>\n",
       "      <th>gamma</th>\n",
       "      <td>0.329408</td>\n",
       "      <td>808.770568</td>\n",
       "      <td>-35558.895135</td>\n",
       "      <td>inf</td>\n",
       "      <td>0.143125</td>\n",
       "      <td>1.854462e-68</td>\n",
       "    </tr>\n",
       "    <tr>\n",
       "      <th>norm</th>\n",
       "      <td>0.329808</td>\n",
       "      <td>822.432880</td>\n",
       "      <td>-35562.520434</td>\n",
       "      <td>inf</td>\n",
       "      <td>0.158045</td>\n",
       "      <td>1.838945e-83</td>\n",
       "    </tr>\n",
       "    <tr>\n",
       "      <th>cauchy</th>\n",
       "      <td>0.338392</td>\n",
       "      <td>833.619778</td>\n",
       "      <td>-35464.788416</td>\n",
       "      <td>inf</td>\n",
       "      <td>0.162497</td>\n",
       "      <td>3.115646e-88</td>\n",
       "    </tr>\n",
       "    <tr>\n",
       "      <th>uniform</th>\n",
       "      <td>0.371409</td>\n",
       "      <td>701.542440</td>\n",
       "      <td>-35110.633788</td>\n",
       "      <td>inf</td>\n",
       "      <td>0.361627</td>\n",
       "      <td>0.000000e+00</td>\n",
       "    </tr>\n",
       "    <tr>\n",
       "      <th>expon</th>\n",
       "      <td>0.389017</td>\n",
       "      <td>768.811397</td>\n",
       "      <td>-34934.438954</td>\n",
       "      <td>inf</td>\n",
       "      <td>0.293827</td>\n",
       "      <td>1.701269e-291</td>\n",
       "    </tr>\n",
       "  </tbody>\n",
       "</table>\n",
       "</div>"
      ],
      "text/plain": [
       "         sumsquare_error         aic           bic  kl_div  ks_statistic  \\\n",
       "gamma           0.329408  808.770568 -35558.895135     inf      0.143125   \n",
       "norm            0.329808  822.432880 -35562.520434     inf      0.158045   \n",
       "cauchy          0.338392  833.619778 -35464.788416     inf      0.162497   \n",
       "uniform         0.371409  701.542440 -35110.633788     inf      0.361627   \n",
       "expon           0.389017  768.811397 -34934.438954     inf      0.293827   \n",
       "\n",
       "             ks_pvalue  \n",
       "gamma     1.854462e-68  \n",
       "norm      1.838945e-83  \n",
       "cauchy    3.115646e-88  \n",
       "uniform   0.000000e+00  \n",
       "expon    1.701269e-291  "
      ]
     },
     "execution_count": 95,
     "metadata": {},
     "output_type": "execute_result"
    },
    {
     "data": {
      "image/png": "[encoded data removed]",
      "text/plain": [
       "<Figure size 432x288 with 1 Axes>"
      ]
     },
     "metadata": {
      "needs_background": "light"
     },
     "output_type": "display_data"
    }
   ],
   "source": [
    "f = Fitter(levels,\n",
    "           distributions=[\"uniform\", \"expon\", \"norm\", \"gamma\", \"cauchy\"])\n",
    "f.fit()\n",
    "f.summary()"
   ]
  },
  {
   "cell_type": "code",
   "execution_count": 96,
   "id": "c66fce49",
   "metadata": {},
   "outputs": [
    {
     "data": {
      "text/plain": [
       "{'gamma': {'a': 66.89763625767307,\n",
       "  'loc': -30.55139966574575,\n",
       "  'scale': 0.7429139609842053}}"
      ]
     },
     "execution_count": 96,
     "metadata": {},
     "output_type": "execute_result"
    }
   ],
   "source": [
    "f.get_best(method = 'sumsquare_error')"
   ]
  },
  {
   "cell_type": "code",
   "execution_count": 97,
   "id": "b657009f",
   "metadata": {},
   "outputs": [
    {
     "name": "stderr",
     "output_type": "stream",
     "text": [
      "Fitting 5 distributions:   0%|                                                                   | 0/5 [00:00<?, ?it/s]SKIPPED weibull distribution (taking more than 30 seconds)\n",
      "Fitting 5 distributions: 100%|███████████████████████████████████████████████████████████| 5/5 [00:00<00:00, 20.32it/s]\n",
      "weibull was not fitted. no parameters available\n"
     ]
    },
    {
     "data": {
      "text/html": [
       "<div>\n",
       "<style scoped>\n",
       "    .dataframe tbody tr th:only-of-type {\n",
       "        vertical-align: middle;\n",
       "    }\n",
       "\n",
       "    .dataframe tbody tr th {\n",
       "        vertical-align: top;\n",
       "    }\n",
       "\n",
       "    .dataframe thead th {\n",
       "        text-align: right;\n",
       "    }\n",
       "</style>\n",
       "<table border=\"1\" class=\"dataframe\">\n",
       "  <thead>\n",
       "    <tr style=\"text-align: right;\">\n",
       "      <th></th>\n",
       "      <th>sumsquare_error</th>\n",
       "      <th>aic</th>\n",
       "      <th>bic</th>\n",
       "      <th>kl_div</th>\n",
       "      <th>ks_statistic</th>\n",
       "      <th>ks_pvalue</th>\n",
       "    </tr>\n",
       "  </thead>\n",
       "  <tbody>\n",
       "    <tr>\n",
       "      <th>laplace</th>\n",
       "      <td>0.322514</td>\n",
       "      <td>826.732836</td>\n",
       "      <td>-3.564760e+04</td>\n",
       "      <td>inf</td>\n",
       "      <td>0.210837</td>\n",
       "      <td>7.702727e-149</td>\n",
       "    </tr>\n",
       "    <tr>\n",
       "      <th>beta</th>\n",
       "      <td>0.328688</td>\n",
       "      <td>831.403442</td>\n",
       "      <td>-3.555898e+04</td>\n",
       "      <td>inf</td>\n",
       "      <td>0.120324</td>\n",
       "      <td>1.893530e-48</td>\n",
       "    </tr>\n",
       "    <tr>\n",
       "      <th>lognorm</th>\n",
       "      <td>0.329491</td>\n",
       "      <td>809.902745</td>\n",
       "      <td>-3.555794e+04</td>\n",
       "      <td>inf</td>\n",
       "      <td>0.144646</td>\n",
       "      <td>6.420868e-70</td>\n",
       "    </tr>\n",
       "    <tr>\n",
       "      <th>pareto</th>\n",
       "      <td>0.465641</td>\n",
       "      <td>842.803493</td>\n",
       "      <td>-3.424227e+04</td>\n",
       "      <td>inf</td>\n",
       "      <td>0.378440</td>\n",
       "      <td>0.000000e+00</td>\n",
       "    </tr>\n",
       "    <tr>\n",
       "      <th>weibull</th>\n",
       "      <td>inf</td>\n",
       "      <td>inf</td>\n",
       "      <td>inf</td>\n",
       "      <td>inf</td>\n",
       "      <td>NaN</td>\n",
       "      <td>NaN</td>\n",
       "    </tr>\n",
       "  </tbody>\n",
       "</table>\n",
       "</div>"
      ],
      "text/plain": [
       "         sumsquare_error         aic           bic  kl_div  ks_statistic  \\\n",
       "laplace         0.322514  826.732836 -3.564760e+04     inf      0.210837   \n",
       "beta            0.328688  831.403442 -3.555898e+04     inf      0.120324   \n",
       "lognorm         0.329491  809.902745 -3.555794e+04     inf      0.144646   \n",
       "pareto          0.465641  842.803493 -3.424227e+04     inf      0.378440   \n",
       "weibull              inf         inf           inf     inf           NaN   \n",
       "\n",
       "             ks_pvalue  \n",
       "laplace  7.702727e-149  \n",
       "beta      1.893530e-48  \n",
       "lognorm   6.420868e-70  \n",
       "pareto    0.000000e+00  \n",
       "weibull            NaN  "
      ]
     },
     "execution_count": 97,
     "metadata": {},
     "output_type": "execute_result"
    },
    {
     "data": {
      "image/png": "[encoded data removed]",
      "text/plain": [
       "<Figure size 432x288 with 1 Axes>"
      ]
     },
     "metadata": {
      "needs_background": "light"
     },
     "output_type": "display_data"
    }
   ],
   "source": [
    "f = Fitter(levels,\n",
    "           distributions=[\"pareto\", \"laplace\",\"lognorm\", \"weibull\", \"beta\"])\n",
    "f.fit()\n",
    "f.summary()"
   ]
  },
  {
   "cell_type": "code",
   "execution_count": 98,
   "id": "24004f7c",
   "metadata": {},
   "outputs": [
    {
     "data": {
      "text/plain": [
       "{'laplace': {'loc': 17.28121004040578, 'scale': 4.9657547001152675}}"
      ]
     },
     "execution_count": 98,
     "metadata": {},
     "output_type": "execute_result"
    }
   ],
   "source": [
    "f.get_best(method = 'sumsquare_error')"
   ]
  },
  {
   "cell_type": "code",
   "execution_count": 99,
   "id": "df3dca95",
   "metadata": {},
   "outputs": [
    {
     "name": "stderr",
     "output_type": "stream",
     "text": [
      "Fitting 2 distributions: 100%|███████████████████████████████████████████████████████████| 2/2 [00:00<00:00, 32.81it/s]\n"
     ]
    },
    {
     "data": {
      "text/html": [
       "<div>\n",
       "<style scoped>\n",
       "    .dataframe tbody tr th:only-of-type {\n",
       "        vertical-align: middle;\n",
       "    }\n",
       "\n",
       "    .dataframe tbody tr th {\n",
       "        vertical-align: top;\n",
       "    }\n",
       "\n",
       "    .dataframe thead th {\n",
       "        text-align: right;\n",
       "    }\n",
       "</style>\n",
       "<table border=\"1\" class=\"dataframe\">\n",
       "  <thead>\n",
       "    <tr style=\"text-align: right;\">\n",
       "      <th></th>\n",
       "      <th>sumsquare_error</th>\n",
       "      <th>aic</th>\n",
       "      <th>bic</th>\n",
       "      <th>kl_div</th>\n",
       "      <th>ks_statistic</th>\n",
       "      <th>ks_pvalue</th>\n",
       "    </tr>\n",
       "  </thead>\n",
       "  <tbody>\n",
       "    <tr>\n",
       "      <th>laplace</th>\n",
       "      <td>1.434039e-15</td>\n",
       "      <td>4.409042e+04</td>\n",
       "      <td>-161357.142032</td>\n",
       "      <td>inf</td>\n",
       "      <td>0.064776</td>\n",
       "      <td>2.547874e-14</td>\n",
       "    </tr>\n",
       "    <tr>\n",
       "      <th>gamma</th>\n",
       "      <td>3.011281e-14</td>\n",
       "      <td>inf</td>\n",
       "      <td>-149767.789222</td>\n",
       "      <td>NaN</td>\n",
       "      <td>0.999737</td>\n",
       "      <td>0.000000e+00</td>\n",
       "    </tr>\n",
       "  </tbody>\n",
       "</table>\n",
       "</div>"
      ],
      "text/plain": [
       "         sumsquare_error           aic            bic  kl_div  ks_statistic  \\\n",
       "laplace     1.434039e-15  4.409042e+04 -161357.142032     inf      0.064776   \n",
       "gamma       3.011281e-14           inf -149767.789222     NaN      0.999737   \n",
       "\n",
       "            ks_pvalue  \n",
       "laplace  2.547874e-14  \n",
       "gamma    0.000000e+00  "
      ]
     },
     "execution_count": 99,
     "metadata": {},
     "output_type": "execute_result"
    },
    {
     "data": {
      "image/png": "[encoded data removed]",
      "text/plain": [
       "<Figure size 432x288 with 1 Axes>"
      ]
     },
     "metadata": {
      "needs_background": "light"
     },
     "output_type": "display_data"
    }
   ],
   "source": [
    "f = Fitter(price,\n",
    "           distributions=[\"gamma\", \"laplace\"])\n",
    "f.fit()\n",
    "f.summary()"
   ]
  },
  {
   "cell_type": "code",
   "execution_count": 100,
   "id": "72247794",
   "metadata": {},
   "outputs": [
    {
     "data": {
      "text/plain": [
       "{'laplace': {'loc': 4194167.0, 'scale': 1271846.5086750789}}"
      ]
     },
     "execution_count": 100,
     "metadata": {},
     "output_type": "execute_result"
    }
   ],
   "source": [
    "f.get_best(method = 'sumsquare_error')"
   ]
  },
  {
   "cell_type": "code",
   "execution_count": null,
   "id": "ad72313a",
   "metadata": {},
   "outputs": [],
   "source": []
  },
  {
   "cell_type": "code",
   "execution_count": null,
   "id": "899d1297",
   "metadata": {},
   "outputs": [],
   "source": []
  },
  {
   "cell_type": "code",
   "execution_count": null,
   "id": "c2ba5294",
   "metadata": {},
   "outputs": [],
   "source": []
  },
  {
   "cell_type": "code",
   "execution_count": 27,
   "id": "42fdca28",
   "metadata": {
    "scrolled": true
   },
   "outputs": [
    {
     "name": "stdout",
     "output_type": "stream",
     "text": [
      "<bound method NDFrame.head of            price        date      time    geo_lat    geo_lon  region  \\\n",
      "0        2800000  2018-03-06  09:57:10  55.736972  38.846457      81   \n",
      "1        6909880  2018-03-06  18:34:48  55.913950  37.707712      81   \n",
      "2        6675840  2018-03-06  18:37:28  55.913950  37.707712      81   \n",
      "3        6522650  2018-03-06  18:37:40  55.913950  37.707712      81   \n",
      "4       11500000  2018-04-03  17:40:53  55.798921  37.738090       3   \n",
      "...          ...         ...       ...        ...        ...     ...   \n",
      "102776  10300000  2021-05-01  19:14:46  55.760172  37.828976       3   \n",
      "102777   3500000  2021-05-01  19:44:05  55.780724  38.659698      81   \n",
      "102778  18500000  2021-05-01  20:01:47  55.741926  37.674274       3   \n",
      "102779  11354820  2021-05-01  20:11:29  55.619589  37.417212       3   \n",
      "102780  11831910  2021-05-01  20:14:12  55.804736  37.750898       3   \n",
      "\n",
      "        building_type  level  levels  rooms  area  kitchen_area  object_type  \n",
      "0                   1      9      10      2  55.0           8.0            1  \n",
      "1                   1      9      14      3  76.1           8.8           11  \n",
      "2                   1     25      25      3  73.2          12.4           11  \n",
      "3                   1      7      14      3  68.3          12.1           11  \n",
      "4                   1     14      16      3  64.9           8.0            1  \n",
      "...               ...    ...     ...    ...   ...           ...          ...  \n",
      "102776              1      6      12      2  46.0           9.6            1  \n",
      "102777              1      6      17      2  62.0          11.0            1  \n",
      "102778              1     16      16      2  67.0          10.0            1  \n",
      "102779              1     13      15      2  58.2          20.7           11  \n",
      "102780              1      8      33      2  52.1          18.9           11  \n",
      "\n",
      "[102781 rows x 13 columns]>\n"
     ]
    }
   ],
   "source": [
    "dataset = pd.read_csv('1moskow_2-3_rooms_upper_floors(6+)_Pannel.csv')\n",
    "print(dataset.head)"
   ]
  },
  {
   "cell_type": "code",
   "execution_count": 43,
   "id": "7d6a88c7",
   "metadata": {
    "scrolled": true
   },
   "outputs": [
    {
     "name": "stdout",
     "output_type": "stream",
     "text": [
      "<bound method NDFrame.head of          price        date      time    geo_lat    geo_lon  region  \\\n",
      "0      3950000  2018-09-09  21:19:07  55.805138  37.843009      81   \n",
      "1      2550000  2018-09-10  08:28:12  55.683630  37.925398       3   \n",
      "2      2800000  2018-09-10  08:33:08  55.604821  37.555866       3   \n",
      "3      6500000  2018-09-10  11:10:53  55.529556  37.445694       3   \n",
      "4      2850000  2018-09-11  11:10:46  55.705515  37.920717       3   \n",
      "...        ...         ...       ...        ...        ...     ...   \n",
      "11981  2700000  2021-05-01  16:32:56  55.613884  37.599770       3   \n",
      "11982  2400000  2021-05-01  17:02:44  55.776659  37.823026       3   \n",
      "11983  3800000  2021-05-01  17:41:43  55.619362  37.604200       3   \n",
      "11984  3650000  2021-05-01  18:46:39  55.615048  37.751721       3   \n",
      "11985  3750000  2021-05-01  20:13:40  55.808892  37.404213       3   \n",
      "\n",
      "       building_type  level  levels  rooms  area  kitchen_area  object_type  \n",
      "0                  1      3      22     -1  32.0           6.0            1  \n",
      "1                  1      2      25     -1  14.0           3.0            1  \n",
      "2                  1      1      16     -1  17.0           2.0            1  \n",
      "3                  1      2      18     -1  43.9          18.0            1  \n",
      "4                  1      2      17     -1  20.0           4.0            1  \n",
      "...              ...    ...     ...    ...   ...           ...          ...  \n",
      "11981              1      1       9     -1  10.0           2.0            1  \n",
      "11982              1      1      12     -1  10.0           2.0            1  \n",
      "11983              1      1       9     -1  17.0           2.0            1  \n",
      "11984              1      1      12     -1  13.0           2.0            1  \n",
      "11985              1      1      12     -1  17.0           3.0            1  \n",
      "\n",
      "[11986 rows x 13 columns]>\n"
     ]
    }
   ],
   "source": [
    "dataset = pd.read_csv('1moskow_studio_rooms_fist_floors(1-3)_Pannel.csv')\n",
    "print(dataset.head)"
   ]
  },
  {
   "cell_type": "code",
   "execution_count": 50,
   "id": "e1be22d8",
   "metadata": {
    "scrolled": true
   },
   "outputs": [
    {
     "name": "stdout",
     "output_type": "stream",
     "text": [
      "<bound method NDFrame.head of           price        date      time    geo_lat    geo_lon  region  \\\n",
      "0       4990050  2018-09-08  00:40:46  55.673715  37.745559       3   \n",
      "1       3600000  2018-09-08  10:10:59  55.797893  37.964169      81   \n",
      "2       4152840  2018-09-08  12:37:01  55.586270  37.457684       3   \n",
      "3       4150000  2018-09-08  13:50:36  54.881772  38.055668      81   \n",
      "4      15500000  2018-09-08  16:49:40  55.733440  37.427094       3   \n",
      "...         ...         ...       ...        ...        ...     ...   \n",
      "10822   9650000  2021-05-01  19:13:41  55.752833  37.520450       3   \n",
      "10823   5280000  2021-05-01  19:22:42  55.882031  37.501837       3   \n",
      "10824  13600000  2021-05-01  19:36:41  55.925338  37.598832      81   \n",
      "10825   6350000  2021-05-01  19:51:41  55.816520  37.342661      81   \n",
      "10826   4339000  2021-05-01  20:08:39  55.700399  37.960624      81   \n",
      "\n",
      "       building_type  level  levels  rooms  area  kitchen_area  object_type  \n",
      "0                  2      8      15     -1  25.6           4.7           11  \n",
      "1                  2      9       9     -1  43.0           5.0           11  \n",
      "2                  2     14      16     -1  32.0           7.1           11  \n",
      "3                  2     14      16     -1  40.0          11.0            1  \n",
      "4                  2     14      23     -1  59.0          11.0            1  \n",
      "...              ...    ...     ...    ...   ...           ...          ...  \n",
      "10822              2     13      24     -1  30.0           5.0           11  \n",
      "10823              2      8      17     -1  20.0           5.1           11  \n",
      "10824              2      6       6     -1  49.0           8.0            1  \n",
      "10825              2     11      32     -1  24.0           3.1            1  \n",
      "10826              2      8      17     -1  25.0           8.0            1  \n",
      "\n",
      "[10827 rows x 13 columns]>\n"
     ]
    }
   ],
   "source": [
    "dataset = pd.read_csv('1moskow_studio_rooms_upper_floors(6+)_Monolithic.csv')\n",
    "print(dataset.head)"
   ]
  },
  {
   "cell_type": "code",
   "execution_count": 16,
   "id": "ad1f67cc",
   "metadata": {},
   "outputs": [],
   "source": [
    "price = dataset['price']. tolist ()\n",
    "area = dataset['area']. tolist ()\n",
    "sq_metars = np.arange(np.size(area), dtype=np.double)\n",
    "for i in range(np.size(area)):\n",
    "    sq_metars[i] = price[i]/area[i]"
   ]
  },
  {
   "cell_type": "code",
   "execution_count": 26,
   "id": "f7f6ccf4",
   "metadata": {},
   "outputs": [],
   "source": [
    "x = np.sort(sq_metars)\n",
    "y = np.arange(1, np.size(x)+1)\n",
    "x_norm = np.linspace(min(sq_metars), max(sq_metars), np.size(sq_metars))\n",
    "y_norm = norm.cdf(x_norm, 0, 1.87)"
   ]
  },
  {
   "cell_type": "code",
   "execution_count": 27,
   "id": "82bdb2fa",
   "metadata": {},
   "outputs": [
    {
     "data": {
      "image/png": "[encoded data removed]",
      "text/plain": [
       "<Figure size 432x288 with 1 Axes>"
      ]
     },
     "metadata": {
      "needs_background": "light"
     },
     "output_type": "display_data"
    }
   ],
   "source": [
    "fig, ax = plt.subplots()\n",
    "ax.plot(x, y, label='Empirical Distribution Function')\n",
    "# ax.plot(x_norm, y_norm, 'k--', label='Normal Distribution')\n",
    "ax.legend()\n",
    "ax.set_xlabel('x')\n",
    "ax.set_ylabel('Cumulative Probability')\n",
    "plt.show()"
   ]
  },
  {
   "cell_type": "code",
   "execution_count": null,
   "id": "3f347cd3",
   "metadata": {},
   "outputs": [],
   "source": []
  }
 ],
 "metadata": {
  "kernelspec": {
   "display_name": "Python 3 (ipykernel)",
   "language": "python",
   "name": "python3"
  },
  "language_info": {
   "codemirror_mode": {
    "name": "ipython",
    "version": 3
   },
   "file_extension": ".py",
   "mimetype": "text/x-python",
   "name": "python",
   "nbconvert_exporter": "python",
   "pygments_lexer": "ipython3",
   "version": "3.9.7"
  }
 },
 "nbformat": 4,
 "nbformat_minor": 5
}
