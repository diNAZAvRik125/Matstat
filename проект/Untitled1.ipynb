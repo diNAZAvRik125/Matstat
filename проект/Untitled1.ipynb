{
 "cells": [
  {
   "cell_type": "code",
   "execution_count": 5,
   "id": "ddd867ee",
   "metadata": {},
   "outputs": [],
   "source": [
    "import pandas as pd\n",
    "import numpy as np\n",
    "import matplotlib.pyplot as plt\n",
    "from scipy.stats import randint, norm, kstest, cauchy, laplace, gamma, lognorm, beta\n",
    "import seaborn as sns\n",
    "from fitter import Fitter, get_common_distributions, get_distributions\n",
    "from sklearn.linear_model import LinearRegression\n",
    "from sklearn.model_selection import train_test_split\n",
    "from sklearn.metrics import mean_squared_error, mean_absolute_percentage_error\n",
    "from sklearn.preprocessing import StandardScaler\n",
    "from datetime import date\n",
    "import csv"
   ]
  },
  {
   "cell_type": "code",
   "execution_count": 2,
   "id": "51b7750f",
   "metadata": {},
   "outputs": [
    {
     "name": "stdout",
     "output_type": "stream",
     "text": [
      "<bound method NDFrame.head of            price        date      time    geo_lat    geo_lon  region  \\\n",
      "0       10200000  2018-04-07  15:23:20  55.655307  37.614605       3   \n",
      "1        5500000  2018-07-22  23:00:02  55.495187  37.554362       3   \n",
      "2        6332000  2018-08-13  10:04:00  55.563338  37.851372      81   \n",
      "3       15800000  2018-09-01  12:50:02  55.680793  37.484593       3   \n",
      "4        9590400  2018-09-08  00:30:49  55.673715  37.745559       3   \n",
      "...          ...         ...       ...        ...        ...     ...   \n",
      "136022   7293900  2021-05-01  20:10:40  55.927587  37.728987      81   \n",
      "136023  14648480  2021-05-01  20:11:09  55.861148  37.540870       3   \n",
      "136024  15720696  2021-05-01  20:12:39  55.886918  37.534136       3   \n",
      "136025  12503160  2021-05-01  20:14:01  55.841415  37.489624       3   \n",
      "136026  13316200  2021-05-01  20:14:15  55.860240  37.540356       3   \n",
      "\n",
      "        building_type  level  levels  rooms   area  kitchen_area  object_type  \\\n",
      "0                   2      7      14      2  52.80         10.00            1   \n",
      "1                   2     13      17      2  63.00         10.00            1   \n",
      "2                   2      7       9      3  96.70         16.60           11   \n",
      "3                   2     16      25      2  57.80          9.00            1   \n",
      "4                   2     10      15      2  53.30         10.10           11   \n",
      "...               ...    ...     ...    ...    ...           ...          ...   \n",
      "136022              2     12      17      3  59.00          5.00            1   \n",
      "136023              2     23      23      2  65.60         11.30           11   \n",
      "136024              2     33      33      3  78.84          8.78           11   \n",
      "136025              2     17      32      2  45.90          6.60           11   \n",
      "136026              2     10      23      2  55.60         20.80           11   \n",
      "\n",
      "        dist_to_metro  \n",
      "0            0.374541  \n",
      "1            5.343876  \n",
      "2            8.613547  \n",
      "3            0.824802  \n",
      "4            1.044386  \n",
      "...               ...  \n",
      "136022       6.161661  \n",
      "136023       0.710798  \n",
      "136024       2.410100  \n",
      "136025       0.256082  \n",
      "136026       0.813444  \n",
      "\n",
      "[136027 rows x 14 columns]>\n"
     ]
    }
   ],
   "source": [
    "dataset = pd.read_csv('1moskow_2-3_rooms_upper_floors(6+)_Monolithic_metro.csv')\n",
    "print(dataset.head)"
   ]
  },
  {
   "cell_type": "code",
   "execution_count": 3,
   "id": "87782ac1",
   "metadata": {},
   "outputs": [
    {
     "name": "stdout",
     "output_type": "stream",
     "text": [
      "136027.0\n",
      "136027\n"
     ]
    }
   ],
   "source": [
    "price_complet = np.array(dataset[['price']])\n",
    "price_complet = price_complet.ravel()\n",
    "print(np.size(dataset)/14)\n",
    "area_complet = np.array(dataset[['area']])\n",
    "area_complet = area_complet.ravel()\n",
    "price_square_meter_complet = price_complet/area_complet\n",
    "print(np.size(price_square_meter_complet))\n",
    "dataset['price_square_meter'] = price_square_meter_complet"
   ]
  },
  {
   "cell_type": "code",
   "execution_count": 143,
   "id": "b67a58cf",
   "metadata": {},
   "outputs": [
    {
     "name": "stdout",
     "output_type": "stream",
     "text": [
      "(68014.0, 68013.0)\n"
     ]
    }
   ],
   "source": [
    "df1 = dataset.iloc [:136027//2+1]\n",
    "df2 = dataset.iloc [136027//2+1:]\n",
    "print((np.size(df1)/15,  np.size(df2)/15))"
   ]
  },
  {
   "cell_type": "code",
   "execution_count": 217,
   "id": "009c69dd",
   "metadata": {},
   "outputs": [],
   "source": [
    "price_square_meter = np.array(df1[['price_square_meter']])\n",
    "price_square_meter = price_square_meter.ravel()\n",
    "price_square_meter_random = np.random.uniform(-0.49, 0.49, np.size(price_square_meter))\n",
    "price_square_meter = price_square_meter + price_square_meter_random\n",
    "# print(np.size(price_square_meter))"
   ]
  },
  {
   "cell_type": "code",
   "execution_count": 218,
   "id": "14cf40be",
   "metadata": {},
   "outputs": [
    {
     "name": "stderr",
     "output_type": "stream",
     "text": [
      "Fitting 5 distributions: 100%|███████████████████████████████████████████████████████████| 5/5 [00:00<00:00,  7.70it/s]\n"
     ]
    },
    {
     "data": {
      "text/html": [
       "<div>\n",
       "<style scoped>\n",
       "    .dataframe tbody tr th:only-of-type {\n",
       "        vertical-align: middle;\n",
       "    }\n",
       "\n",
       "    .dataframe tbody tr th {\n",
       "        vertical-align: top;\n",
       "    }\n",
       "\n",
       "    .dataframe thead th {\n",
       "        text-align: right;\n",
       "    }\n",
       "</style>\n",
       "<table border=\"1\" class=\"dataframe\">\n",
       "  <thead>\n",
       "    <tr style=\"text-align: right;\">\n",
       "      <th></th>\n",
       "      <th>sumsquare_error</th>\n",
       "      <th>aic</th>\n",
       "      <th>bic</th>\n",
       "      <th>kl_div</th>\n",
       "      <th>ks_statistic</th>\n",
       "      <th>ks_pvalue</th>\n",
       "    </tr>\n",
       "  </thead>\n",
       "  <tbody>\n",
       "    <tr>\n",
       "      <th>cauchy</th>\n",
       "      <td>1.535639e-11</td>\n",
       "      <td>3642.960743</td>\n",
       "      <td>-2.450315e+06</td>\n",
       "      <td>inf</td>\n",
       "      <td>0.128397</td>\n",
       "      <td>0.0</td>\n",
       "    </tr>\n",
       "    <tr>\n",
       "      <th>norm</th>\n",
       "      <td>2.630002e-11</td>\n",
       "      <td>37049.019473</td>\n",
       "      <td>-2.413721e+06</td>\n",
       "      <td>inf</td>\n",
       "      <td>0.116666</td>\n",
       "      <td>0.0</td>\n",
       "    </tr>\n",
       "    <tr>\n",
       "      <th>gamma</th>\n",
       "      <td>5.394238e-11</td>\n",
       "      <td>13242.784435</td>\n",
       "      <td>-2.364852e+06</td>\n",
       "      <td>inf</td>\n",
       "      <td>0.228518</td>\n",
       "      <td>0.0</td>\n",
       "    </tr>\n",
       "    <tr>\n",
       "      <th>expon</th>\n",
       "      <td>9.032554e-11</td>\n",
       "      <td>4372.260879</td>\n",
       "      <td>-2.329802e+06</td>\n",
       "      <td>inf</td>\n",
       "      <td>0.304865</td>\n",
       "      <td>0.0</td>\n",
       "    </tr>\n",
       "    <tr>\n",
       "      <th>uniform</th>\n",
       "      <td>1.504425e-10</td>\n",
       "      <td>2986.707514</td>\n",
       "      <td>-2.295104e+06</td>\n",
       "      <td>inf</td>\n",
       "      <td>0.862731</td>\n",
       "      <td>0.0</td>\n",
       "    </tr>\n",
       "  </tbody>\n",
       "</table>\n",
       "</div>"
      ],
      "text/plain": [
       "         sumsquare_error           aic           bic  kl_div  ks_statistic  \\\n",
       "cauchy      1.535639e-11   3642.960743 -2.450315e+06     inf      0.128397   \n",
       "norm        2.630002e-11  37049.019473 -2.413721e+06     inf      0.116666   \n",
       "gamma       5.394238e-11  13242.784435 -2.364852e+06     inf      0.228518   \n",
       "expon       9.032554e-11   4372.260879 -2.329802e+06     inf      0.304865   \n",
       "uniform     1.504425e-10   2986.707514 -2.295104e+06     inf      0.862731   \n",
       "\n",
       "         ks_pvalue  \n",
       "cauchy         0.0  \n",
       "norm           0.0  \n",
       "gamma          0.0  \n",
       "expon          0.0  \n",
       "uniform        0.0  "
      ]
     },
     "execution_count": 218,
     "metadata": {},
     "output_type": "execute_result"
    },
    {
     "data": {
      "image/png": "[encoded data removed]",
      "text/plain": [
       "<Figure size 432x288 with 1 Axes>"
      ]
     },
     "metadata": {
      "needs_background": "light"
     },
     "output_type": "display_data"
    }
   ],
   "source": [
    "f = Fitter(price_square_meter,\n",
    "           distributions=[\"uniform\", \"expon\", \"norm\", \"gamma\", \"cauchy\"])\n",
    "f.fit()\n",
    "f.summary()"
   ]
  },
  {
   "cell_type": "code",
   "execution_count": 219,
   "id": "52f0bd6c",
   "metadata": {},
   "outputs": [
    {
     "data": {
      "text/plain": [
       "{'cauchy': {'loc': 127615.22638196446, 'scale': 36219.21213304912}}"
      ]
     },
     "execution_count": 219,
     "metadata": {},
     "output_type": "execute_result"
    }
   ],
   "source": [
    "f.get_best(method = 'sumsquare_error')"
   ]
  },
  {
   "cell_type": "code",
   "execution_count": 220,
   "id": "9cc8a2c5",
   "metadata": {},
   "outputs": [
    {
     "name": "stderr",
     "output_type": "stream",
     "text": [
      "Fitting 5 distributions:   0%|                                                                   | 0/5 [00:00<?, ?it/s]SKIPPED weibull distribution (taking more than 30 seconds)\n",
      "Fitting 5 distributions: 100%|███████████████████████████████████████████████████████████| 5/5 [00:01<00:00,  2.79it/s]\n",
      "weibull was not fitted. no parameters available\n"
     ]
    },
    {
     "data": {
      "text/html": [
       "<div>\n",
       "<style scoped>\n",
       "    .dataframe tbody tr th:only-of-type {\n",
       "        vertical-align: middle;\n",
       "    }\n",
       "\n",
       "    .dataframe tbody tr th {\n",
       "        vertical-align: top;\n",
       "    }\n",
       "\n",
       "    .dataframe thead th {\n",
       "        text-align: right;\n",
       "    }\n",
       "</style>\n",
       "<table border=\"1\" class=\"dataframe\">\n",
       "  <thead>\n",
       "    <tr style=\"text-align: right;\">\n",
       "      <th></th>\n",
       "      <th>sumsquare_error</th>\n",
       "      <th>aic</th>\n",
       "      <th>bic</th>\n",
       "      <th>kl_div</th>\n",
       "      <th>ks_statistic</th>\n",
       "      <th>ks_pvalue</th>\n",
       "    </tr>\n",
       "  </thead>\n",
       "  <tbody>\n",
       "    <tr>\n",
       "      <th>beta</th>\n",
       "      <td>3.987790e-12</td>\n",
       "      <td>9073.519198</td>\n",
       "      <td>-2.541996e+06</td>\n",
       "      <td>inf</td>\n",
       "      <td>0.049060</td>\n",
       "      <td>1.051922e-142</td>\n",
       "    </tr>\n",
       "    <tr>\n",
       "      <th>laplace</th>\n",
       "      <td>1.785491e-11</td>\n",
       "      <td>7324.288492</td>\n",
       "      <td>-2.440062e+06</td>\n",
       "      <td>inf</td>\n",
       "      <td>0.100243</td>\n",
       "      <td>0.000000e+00</td>\n",
       "    </tr>\n",
       "    <tr>\n",
       "      <th>lognorm</th>\n",
       "      <td>1.525116e-10</td>\n",
       "      <td>3587.909929</td>\n",
       "      <td>-2.294164e+06</td>\n",
       "      <td>inf</td>\n",
       "      <td>0.801018</td>\n",
       "      <td>0.000000e+00</td>\n",
       "    </tr>\n",
       "    <tr>\n",
       "      <th>pareto</th>\n",
       "      <td>1.558652e-10</td>\n",
       "      <td>3445.199729</td>\n",
       "      <td>-2.292684e+06</td>\n",
       "      <td>inf</td>\n",
       "      <td>0.567587</td>\n",
       "      <td>0.000000e+00</td>\n",
       "    </tr>\n",
       "    <tr>\n",
       "      <th>weibull</th>\n",
       "      <td>inf</td>\n",
       "      <td>inf</td>\n",
       "      <td>inf</td>\n",
       "      <td>inf</td>\n",
       "      <td>NaN</td>\n",
       "      <td>NaN</td>\n",
       "    </tr>\n",
       "  </tbody>\n",
       "</table>\n",
       "</div>"
      ],
      "text/plain": [
       "         sumsquare_error          aic           bic  kl_div  ks_statistic  \\\n",
       "beta        3.987790e-12  9073.519198 -2.541996e+06     inf      0.049060   \n",
       "laplace     1.785491e-11  7324.288492 -2.440062e+06     inf      0.100243   \n",
       "lognorm     1.525116e-10  3587.909929 -2.294164e+06     inf      0.801018   \n",
       "pareto      1.558652e-10  3445.199729 -2.292684e+06     inf      0.567587   \n",
       "weibull              inf          inf           inf     inf           NaN   \n",
       "\n",
       "             ks_pvalue  \n",
       "beta     1.051922e-142  \n",
       "laplace   0.000000e+00  \n",
       "lognorm   0.000000e+00  \n",
       "pareto    0.000000e+00  \n",
       "weibull            NaN  "
      ]
     },
     "execution_count": 220,
     "metadata": {},
     "output_type": "execute_result"
    },
    {
     "data": {
      "image/png": "[encoded data removed]",
      "text/plain": [
       "<Figure size 432x288 with 1 Axes>"
      ]
     },
     "metadata": {
      "needs_background": "light"
     },
     "output_type": "display_data"
    }
   ],
   "source": [
    "f = Fitter(price_square_meter,\n",
    "           distributions=[\"pareto\", \"laplace\",\"lognorm\", \"weibull\", \"beta\"])\n",
    "f.fit()\n",
    "f.summary()"
   ]
  },
  {
   "cell_type": "code",
   "execution_count": 221,
   "id": "39ddf1c9",
   "metadata": {},
   "outputs": [
    {
     "data": {
      "text/plain": [
       "{'beta': {'a': 4.525060816833751,\n",
       "  'b': 10435307535418.95,\n",
       "  'loc': -249.32583011182984,\n",
       "  'scale': 3.496534643346011e+17}}"
      ]
     },
     "execution_count": 221,
     "metadata": {},
     "output_type": "execute_result"
    }
   ],
   "source": [
    "f.get_best(method = 'sumsquare_error')"
   ]
  },
  {
   "cell_type": "code",
   "execution_count": 222,
   "id": "e8fd611c",
   "metadata": {},
   "outputs": [
    {
     "name": "stderr",
     "output_type": "stream",
     "text": [
      "Fitting 2 distributions: 100%|███████████████████████████████████████████████████████████| 2/2 [00:01<00:00,  1.55it/s]\n"
     ]
    },
    {
     "data": {
      "text/html": [
       "<div>\n",
       "<style scoped>\n",
       "    .dataframe tbody tr th:only-of-type {\n",
       "        vertical-align: middle;\n",
       "    }\n",
       "\n",
       "    .dataframe tbody tr th {\n",
       "        vertical-align: top;\n",
       "    }\n",
       "\n",
       "    .dataframe thead th {\n",
       "        text-align: right;\n",
       "    }\n",
       "</style>\n",
       "<table border=\"1\" class=\"dataframe\">\n",
       "  <thead>\n",
       "    <tr style=\"text-align: right;\">\n",
       "      <th></th>\n",
       "      <th>sumsquare_error</th>\n",
       "      <th>aic</th>\n",
       "      <th>bic</th>\n",
       "      <th>kl_div</th>\n",
       "      <th>ks_statistic</th>\n",
       "      <th>ks_pvalue</th>\n",
       "    </tr>\n",
       "  </thead>\n",
       "  <tbody>\n",
       "    <tr>\n",
       "      <th>beta</th>\n",
       "      <td>3.987790e-12</td>\n",
       "      <td>9073.519198</td>\n",
       "      <td>-2.541996e+06</td>\n",
       "      <td>inf</td>\n",
       "      <td>0.049060</td>\n",
       "      <td>1.051922e-142</td>\n",
       "    </tr>\n",
       "    <tr>\n",
       "      <th>cauchy</th>\n",
       "      <td>1.535639e-11</td>\n",
       "      <td>3642.960743</td>\n",
       "      <td>-2.450315e+06</td>\n",
       "      <td>inf</td>\n",
       "      <td>0.128397</td>\n",
       "      <td>0.000000e+00</td>\n",
       "    </tr>\n",
       "  </tbody>\n",
       "</table>\n",
       "</div>"
      ],
      "text/plain": [
       "        sumsquare_error          aic           bic  kl_div  ks_statistic  \\\n",
       "beta       3.987790e-12  9073.519198 -2.541996e+06     inf      0.049060   \n",
       "cauchy     1.535639e-11  3642.960743 -2.450315e+06     inf      0.128397   \n",
       "\n",
       "            ks_pvalue  \n",
       "beta    1.051922e-142  \n",
       "cauchy   0.000000e+00  "
      ]
     },
     "execution_count": 222,
     "metadata": {},
     "output_type": "execute_result"
    },
    {
     "data": {
      "image/png": "[encoded data removed]",
      "text/plain": [
       "<Figure size 432x288 with 1 Axes>"
      ]
     },
     "metadata": {
      "needs_background": "light"
     },
     "output_type": "display_data"
    }
   ],
   "source": [
    "f = Fitter(price_square_meter,\n",
    "           distributions=[\"cauchy\", \"beta\"])\n",
    "f.fit()\n",
    "f.summary()"
   ]
  },
  {
   "cell_type": "code",
   "execution_count": 223,
   "id": "183ff451",
   "metadata": {
    "scrolled": true
   },
   "outputs": [
    {
     "data": {
      "text/plain": [
       "{'beta': {'a': 4.525060816833751,\n",
       "  'b': 10435307535418.95,\n",
       "  'loc': -249.32583011182984,\n",
       "  'scale': 3.496534643346011e+17}}"
      ]
     },
     "execution_count": 223,
     "metadata": {},
     "output_type": "execute_result"
    }
   ],
   "source": [
    "f.get_best(method = 'sumsquare_error')"
   ]
  },
  {
   "cell_type": "code",
   "execution_count": 224,
   "id": "03074c0a",
   "metadata": {},
   "outputs": [
    {
     "data": {
      "text/plain": [
       "KstestResult(statistic=0.9988021897774445, pvalue=0.0)"
      ]
     },
     "execution_count": 224,
     "metadata": {},
     "output_type": "execute_result"
    }
   ],
   "source": [
    "sample_beta_price_square_meter = beta.rvs(a = 4.525073942381758, b = 6430637556555.085, loc=-249.28179294031176, scale=.1546914136891744e+17, size = np.size(df2))\n",
    "price_square_meter_2 = np.array(df2[['price_square_meter']])\n",
    "price_square_meter_2 = price_square_meter_2.ravel()\n",
    "# price_square_meter_2_random = np.random.uniform(-0.49, 0.49, np.size(price_square_meter_2))\n",
    "# price_square_meter_2 = price_square_meter_2 + price_square_meter_2_random\n",
    "kstest(price_square_meter_2, sample_beta_price_square_meter)"
   ]
  },
  {
   "cell_type": "code",
   "execution_count": 226,
   "id": "bf1198cf",
   "metadata": {},
   "outputs": [
    {
     "data": {
      "image/png": "[encoded data removed]",
      "text/plain": [
       "<Figure size 432x288 with 1 Axes>"
      ]
     },
     "metadata": {
      "needs_background": "light"
     },
     "output_type": "display_data"
    }
   ],
   "source": [
    "x = np.sort(price_square_meter)\n",
    "y = np.arange(1, np.size(x)+1) / np.size(x)\n",
    "fig, ax = plt.subplots()\n",
    "ax.plot(x, y, label='Empirical Distribution Function')\n",
    "plt.show()"
   ]
  },
  {
   "cell_type": "code",
   "execution_count": 172,
   "id": "d81c9dee",
   "metadata": {},
   "outputs": [],
   "source": [
    "price = np.array(df1[['price']])\n",
    "price = price.ravel()\n",
    "price_random = np.random.uniform(-0.49, 0.49, np.size(price))\n",
    "price = price + price_random"
   ]
  },
  {
   "cell_type": "code",
   "execution_count": 173,
   "id": "9f9d4a4b",
   "metadata": {},
   "outputs": [
    {
     "name": "stderr",
     "output_type": "stream",
     "text": [
      "Fitting 5 distributions: 100%|███████████████████████████████████████████████████████████| 5/5 [00:00<00:00, 15.22it/s]\n"
     ]
    },
    {
     "data": {
      "text/html": [
       "<div>\n",
       "<style scoped>\n",
       "    .dataframe tbody tr th:only-of-type {\n",
       "        vertical-align: middle;\n",
       "    }\n",
       "\n",
       "    .dataframe tbody tr th {\n",
       "        vertical-align: top;\n",
       "    }\n",
       "\n",
       "    .dataframe thead th {\n",
       "        text-align: right;\n",
       "    }\n",
       "</style>\n",
       "<table border=\"1\" class=\"dataframe\">\n",
       "  <thead>\n",
       "    <tr style=\"text-align: right;\">\n",
       "      <th></th>\n",
       "      <th>sumsquare_error</th>\n",
       "      <th>aic</th>\n",
       "      <th>bic</th>\n",
       "      <th>kl_div</th>\n",
       "      <th>ks_statistic</th>\n",
       "      <th>ks_pvalue</th>\n",
       "    </tr>\n",
       "  </thead>\n",
       "  <tbody>\n",
       "    <tr>\n",
       "      <th>cauchy</th>\n",
       "      <td>1.457003e-15</td>\n",
       "      <td>4.753961e+03</td>\n",
       "      <td>-3.080323e+06</td>\n",
       "      <td>inf</td>\n",
       "      <td>0.144719</td>\n",
       "      <td>0.0</td>\n",
       "    </tr>\n",
       "    <tr>\n",
       "      <th>norm</th>\n",
       "      <td>5.140441e-15</td>\n",
       "      <td>5.909686e+04</td>\n",
       "      <td>-2.994573e+06</td>\n",
       "      <td>inf</td>\n",
       "      <td>0.186842</td>\n",
       "      <td>0.0</td>\n",
       "    </tr>\n",
       "    <tr>\n",
       "      <th>expon</th>\n",
       "      <td>7.585092e-15</td>\n",
       "      <td>6.786602e+03</td>\n",
       "      <td>-2.968113e+06</td>\n",
       "      <td>inf</td>\n",
       "      <td>0.261691</td>\n",
       "      <td>0.0</td>\n",
       "    </tr>\n",
       "    <tr>\n",
       "      <th>uniform</th>\n",
       "      <td>1.571530e-14</td>\n",
       "      <td>3.960329e+03</td>\n",
       "      <td>-2.918568e+06</td>\n",
       "      <td>inf</td>\n",
       "      <td>0.894177</td>\n",
       "      <td>0.0</td>\n",
       "    </tr>\n",
       "    <tr>\n",
       "      <th>gamma</th>\n",
       "      <td>1.637278e-14</td>\n",
       "      <td>inf</td>\n",
       "      <td>-2.915769e+06</td>\n",
       "      <td>NaN</td>\n",
       "      <td>1.000000</td>\n",
       "      <td>0.0</td>\n",
       "    </tr>\n",
       "  </tbody>\n",
       "</table>\n",
       "</div>"
      ],
      "text/plain": [
       "         sumsquare_error           aic           bic  kl_div  ks_statistic  \\\n",
       "cauchy      1.457003e-15  4.753961e+03 -3.080323e+06     inf      0.144719   \n",
       "norm        5.140441e-15  5.909686e+04 -2.994573e+06     inf      0.186842   \n",
       "expon       7.585092e-15  6.786602e+03 -2.968113e+06     inf      0.261691   \n",
       "uniform     1.571530e-14  3.960329e+03 -2.918568e+06     inf      0.894177   \n",
       "gamma       1.637278e-14           inf -2.915769e+06     NaN      1.000000   \n",
       "\n",
       "         ks_pvalue  \n",
       "cauchy         0.0  \n",
       "norm           0.0  \n",
       "expon          0.0  \n",
       "uniform        0.0  \n",
       "gamma          0.0  "
      ]
     },
     "execution_count": 173,
     "metadata": {},
     "output_type": "execute_result"
    },
    {
     "data": {
      "image/png": "[encoded data removed]",
      "text/plain": [
       "<Figure size 432x288 with 1 Axes>"
      ]
     },
     "metadata": {
      "needs_background": "light"
     },
     "output_type": "display_data"
    }
   ],
   "source": [
    "f = Fitter(price,\n",
    "           distributions=[\"uniform\", \"expon\", \"norm\", \"gamma\", \"cauchy\"])\n",
    "f.fit()\n",
    "f.summary()"
   ]
  },
  {
   "cell_type": "code",
   "execution_count": 174,
   "id": "362b49cc",
   "metadata": {},
   "outputs": [
    {
     "data": {
      "text/plain": [
       "{'cauchy': {'loc': 8231599.295250745, 'scale': 2660912.6541687776}}"
      ]
     },
     "execution_count": 174,
     "metadata": {},
     "output_type": "execute_result"
    }
   ],
   "source": [
    "f.get_best(method = 'sumsquare_error')"
   ]
  },
  {
   "cell_type": "code",
   "execution_count": 175,
   "id": "f7621b23",
   "metadata": {},
   "outputs": [
    {
     "name": "stderr",
     "output_type": "stream",
     "text": [
      "Fitting 5 distributions:   0%|                                                                   | 0/5 [00:00<?, ?it/s]SKIPPED weibull distribution (taking more than 30 seconds)\n",
      "Fitting 5 distributions: 100%|███████████████████████████████████████████████████████████| 5/5 [00:01<00:00,  3.01it/s]\n",
      "weibull was not fitted. no parameters available\n"
     ]
    },
    {
     "data": {
      "text/html": [
       "<div>\n",
       "<style scoped>\n",
       "    .dataframe tbody tr th:only-of-type {\n",
       "        vertical-align: middle;\n",
       "    }\n",
       "\n",
       "    .dataframe tbody tr th {\n",
       "        vertical-align: top;\n",
       "    }\n",
       "\n",
       "    .dataframe thead th {\n",
       "        text-align: right;\n",
       "    }\n",
       "</style>\n",
       "<table border=\"1\" class=\"dataframe\">\n",
       "  <thead>\n",
       "    <tr style=\"text-align: right;\">\n",
       "      <th></th>\n",
       "      <th>sumsquare_error</th>\n",
       "      <th>aic</th>\n",
       "      <th>bic</th>\n",
       "      <th>kl_div</th>\n",
       "      <th>ks_statistic</th>\n",
       "      <th>ks_pvalue</th>\n",
       "    </tr>\n",
       "  </thead>\n",
       "  <tbody>\n",
       "    <tr>\n",
       "      <th>beta</th>\n",
       "      <td>1.041660e-15</td>\n",
       "      <td>1.211828e+04</td>\n",
       "      <td>-3.103123e+06</td>\n",
       "      <td>inf</td>\n",
       "      <td>0.085833</td>\n",
       "      <td>0.0</td>\n",
       "    </tr>\n",
       "    <tr>\n",
       "      <th>laplace</th>\n",
       "      <td>1.872833e-15</td>\n",
       "      <td>1.098026e+04</td>\n",
       "      <td>-3.063246e+06</td>\n",
       "      <td>inf</td>\n",
       "      <td>0.147529</td>\n",
       "      <td>0.0</td>\n",
       "    </tr>\n",
       "    <tr>\n",
       "      <th>pareto</th>\n",
       "      <td>1.399755e-14</td>\n",
       "      <td>4.439252e+03</td>\n",
       "      <td>-2.926430e+06</td>\n",
       "      <td>inf</td>\n",
       "      <td>0.564961</td>\n",
       "      <td>0.0</td>\n",
       "    </tr>\n",
       "    <tr>\n",
       "      <th>lognorm</th>\n",
       "      <td>1.526291e-14</td>\n",
       "      <td>4.609616e+03</td>\n",
       "      <td>-2.920543e+06</td>\n",
       "      <td>inf</td>\n",
       "      <td>0.805264</td>\n",
       "      <td>0.0</td>\n",
       "    </tr>\n",
       "    <tr>\n",
       "      <th>weibull</th>\n",
       "      <td>inf</td>\n",
       "      <td>inf</td>\n",
       "      <td>inf</td>\n",
       "      <td>inf</td>\n",
       "      <td>NaN</td>\n",
       "      <td>NaN</td>\n",
       "    </tr>\n",
       "  </tbody>\n",
       "</table>\n",
       "</div>"
      ],
      "text/plain": [
       "         sumsquare_error           aic           bic  kl_div  ks_statistic  \\\n",
       "beta        1.041660e-15  1.211828e+04 -3.103123e+06     inf      0.085833   \n",
       "laplace     1.872833e-15  1.098026e+04 -3.063246e+06     inf      0.147529   \n",
       "pareto      1.399755e-14  4.439252e+03 -2.926430e+06     inf      0.564961   \n",
       "lognorm     1.526291e-14  4.609616e+03 -2.920543e+06     inf      0.805264   \n",
       "weibull              inf           inf           inf     inf           NaN   \n",
       "\n",
       "         ks_pvalue  \n",
       "beta           0.0  \n",
       "laplace        0.0  \n",
       "pareto         0.0  \n",
       "lognorm        0.0  \n",
       "weibull        NaN  "
      ]
     },
     "execution_count": 175,
     "metadata": {},
     "output_type": "execute_result"
    },
    {
     "data": {
      "image/png": "[encoded data removed]",
      "text/plain": [
       "<Figure size 432x288 with 1 Axes>"
      ]
     },
     "metadata": {
      "needs_background": "light"
     },
     "output_type": "display_data"
    }
   ],
   "source": [
    "f = Fitter(price,\n",
    "           distributions=[\"pareto\", \"laplace\",\"lognorm\", \"weibull\", \"beta\"])\n",
    "f.fit()\n",
    "f.summary()"
   ]
  },
  {
   "cell_type": "code",
   "execution_count": 176,
   "id": "a2149f83",
   "metadata": {},
   "outputs": [
    {
     "data": {
      "text/plain": [
       "{'beta': {'a': 2.936066700021592,\n",
       "  'b': 20984315633484.92,\n",
       "  'loc': 2224.2007837824117,\n",
       "  'scale': 7.894605620956073e+19}}"
      ]
     },
     "execution_count": 176,
     "metadata": {},
     "output_type": "execute_result"
    }
   ],
   "source": [
    "f.get_best(method = 'sumsquare_error')"
   ]
  },
  {
   "cell_type": "code",
   "execution_count": 177,
   "id": "afd05d75",
   "metadata": {},
   "outputs": [
    {
     "name": "stderr",
     "output_type": "stream",
     "text": [
      "Fitting 2 distributions: 100%|███████████████████████████████████████████████████████████| 2/2 [00:01<00:00,  1.67it/s]\n"
     ]
    },
    {
     "data": {
      "text/html": [
       "<div>\n",
       "<style scoped>\n",
       "    .dataframe tbody tr th:only-of-type {\n",
       "        vertical-align: middle;\n",
       "    }\n",
       "\n",
       "    .dataframe tbody tr th {\n",
       "        vertical-align: top;\n",
       "    }\n",
       "\n",
       "    .dataframe thead th {\n",
       "        text-align: right;\n",
       "    }\n",
       "</style>\n",
       "<table border=\"1\" class=\"dataframe\">\n",
       "  <thead>\n",
       "    <tr style=\"text-align: right;\">\n",
       "      <th></th>\n",
       "      <th>sumsquare_error</th>\n",
       "      <th>aic</th>\n",
       "      <th>bic</th>\n",
       "      <th>kl_div</th>\n",
       "      <th>ks_statistic</th>\n",
       "      <th>ks_pvalue</th>\n",
       "    </tr>\n",
       "  </thead>\n",
       "  <tbody>\n",
       "    <tr>\n",
       "      <th>beta</th>\n",
       "      <td>1.041660e-15</td>\n",
       "      <td>12118.275743</td>\n",
       "      <td>-3.103123e+06</td>\n",
       "      <td>inf</td>\n",
       "      <td>0.085833</td>\n",
       "      <td>0.0</td>\n",
       "    </tr>\n",
       "    <tr>\n",
       "      <th>cauchy</th>\n",
       "      <td>1.457003e-15</td>\n",
       "      <td>4753.961401</td>\n",
       "      <td>-3.080323e+06</td>\n",
       "      <td>inf</td>\n",
       "      <td>0.144719</td>\n",
       "      <td>0.0</td>\n",
       "    </tr>\n",
       "  </tbody>\n",
       "</table>\n",
       "</div>"
      ],
      "text/plain": [
       "        sumsquare_error           aic           bic  kl_div  ks_statistic  \\\n",
       "beta       1.041660e-15  12118.275743 -3.103123e+06     inf      0.085833   \n",
       "cauchy     1.457003e-15   4753.961401 -3.080323e+06     inf      0.144719   \n",
       "\n",
       "        ks_pvalue  \n",
       "beta          0.0  \n",
       "cauchy        0.0  "
      ]
     },
     "execution_count": 177,
     "metadata": {},
     "output_type": "execute_result"
    },
    {
     "data": {
      "image/png": "[encoded data removed]",
      "text/plain": [
       "<Figure size 432x288 with 1 Axes>"
      ]
     },
     "metadata": {
      "needs_background": "light"
     },
     "output_type": "display_data"
    }
   ],
   "source": [
    "f = Fitter(price,\n",
    "           distributions=[\"cauchy\", \"beta\"])\n",
    "f.fit()\n",
    "f.summary()"
   ]
  },
  {
   "cell_type": "code",
   "execution_count": 178,
   "id": "2bc7dd62",
   "metadata": {},
   "outputs": [
    {
     "data": {
      "text/plain": [
       "{'beta': {'a': 2.936066700021592,\n",
       "  'b': 20984315633484.92,\n",
       "  'loc': 2224.2007837824117,\n",
       "  'scale': 7.894605620956073e+19}}"
      ]
     },
     "execution_count": 178,
     "metadata": {},
     "output_type": "execute_result"
    }
   ],
   "source": [
    "f.get_best(method = 'sumsquare_error')"
   ]
  },
  {
   "cell_type": "code",
   "execution_count": 179,
   "id": "430a6f1e",
   "metadata": {},
   "outputs": [
    {
     "data": {
      "text/plain": [
       "KstestResult(statistic=0.08946383184594431, pvalue=0.0)"
      ]
     },
     "execution_count": 179,
     "metadata": {},
     "output_type": "execute_result"
    }
   ],
   "source": [
    "sample_beta_price = beta.rvs(a = 2.9520434768528974, b = 20984315633484.92, loc=2224.2007837824117, scale=7.894605620956073e+19, size = np.size(df2))\n",
    "price_2 = np.array(df2[['price']])\n",
    "price_2 = price.ravel()\n",
    "price_random_2 = np.random.uniform(-0.49, 0.49, np.size(price_2))\n",
    "price_2 = price_2 + price_random_2\n",
    "kstest(price_2, sample_beta_price)"
   ]
  },
  {
   "cell_type": "code",
   "execution_count": 114,
   "id": "65c1c2fa",
   "metadata": {
    "scrolled": false
   },
   "outputs": [
    {
     "data": {
      "image/png": "[encoded data removed]",
      "text/plain": [
       "<Figure size 432x288 with 1 Axes>"
      ]
     },
     "metadata": {
      "needs_background": "light"
     },
     "output_type": "display_data"
    }
   ],
   "source": [
    "x = np.sort(price)\n",
    "y = np.arange(1, np.size(x)+1) / np.size(x)\n",
    "fig, ax = plt.subplots()\n",
    "ax.plot(x, y, label='Empirical Distribution Function')\n",
    "plt.show()"
   ]
  },
  {
   "cell_type": "code",
   "execution_count": 235,
   "id": "ced6ec49",
   "metadata": {},
   "outputs": [
    {
     "data": {
      "image/png": "[encoded data removed]",
      "text/plain": [
       "<Figure size 720x576 with 2 Axes>"
      ]
     },
     "metadata": {
      "needs_background": "light"
     },
     "output_type": "display_data"
    }
   ],
   "source": [
    "# Выберите нужные параметры для построения матрицы корреляций\n",
    "selected_columns = ['price', 'geo_lat', 'geo_lon', 'level', 'levels', 'rooms', 'area', 'kitchen_area', 'dist_to_metro', 'price_square_meter']\n",
    "\n",
    "# Создание подмножества данных с выбранными параметрами\n",
    "data = dataset[selected_columns]\n",
    "\n",
    "# Отображение статистической информации о данных\n",
    "# print(data.describe())\n",
    "\n",
    "# Создание фигуры для отображения матрицы корреляций\n",
    "f, ax = plt.subplots(figsize=(10, 8))\n",
    "\n",
    "# Вычисление матрицы корреляций\n",
    "corr = data.corr()\n",
    "\n",
    "# Создание тепловой карты с использованием seaborn\n",
    "sns.heatmap(corr,\n",
    "            cmap=sns.diverging_palette(220, 10, as_cmap=True),\n",
    "            vmin=0.0, vmax=1.0,\n",
    "            square=True, ax=ax)\n",
    "\n",
    "# Отображение графика\n",
    "plt.show()"
   ]
  },
  {
   "cell_type": "code",
   "execution_count": 236,
   "id": "0cdadc62",
   "metadata": {
    "scrolled": true
   },
   "outputs": [],
   "source": [
    "model = LinearRegression()\n",
    "X = df1[['region', 'building_type', 'level', 'levels', 'rooms', 'area', 'kitchen_area', 'object_type', 'dist_to_metro']]\n",
    "y = df1['price_square_meter']"
   ]
  },
  {
   "cell_type": "code",
   "execution_count": 237,
   "id": "927df695",
   "metadata": {},
   "outputs": [],
   "source": [
    "scaler = StandardScaler()\n",
    "X_scaled = scaler.fit_transform(X)"
   ]
  },
  {
   "cell_type": "code",
   "execution_count": 238,
   "id": "46a9f183",
   "metadata": {},
   "outputs": [
    {
     "data": {
      "text/plain": [
       "LinearRegression()"
      ]
     },
     "execution_count": 238,
     "metadata": {},
     "output_type": "execute_result"
    }
   ],
   "source": [
    "model = LinearRegression()\n",
    "model.fit(X, y)"
   ]
  },
  {
   "cell_type": "code",
   "execution_count": 239,
   "id": "8fc5daa4",
   "metadata": {},
   "outputs": [],
   "source": [
    "first = df2.iloc [:68013]\n",
    "price_square_meter = np.array(first[['price_square_meter']])\n",
    "new_data = first[['region', 'building_type', 'level', 'levels', 'rooms', 'area', 'kitchen_area', 'object_type', 'dist_to_metro']]"
   ]
  },
  {
   "cell_type": "code",
   "execution_count": 211,
   "id": "acea5d70",
   "metadata": {},
   "outputs": [
    {
     "name": "stdout",
     "output_type": "stream",
     "text": [
      "68013 68013\n"
     ]
    }
   ],
   "source": [
    "predictions = model.predict(new_data)\n",
    "print(np.size(price_square_meter), np.size(predictions))\n",
    "# for prediction in predictions:\n",
    "#     print(\"Предсказанное значение:\", prediction)"
   ]
  },
  {
   "cell_type": "code",
   "execution_count": 212,
   "id": "b2716bc6",
   "metadata": {},
   "outputs": [
    {
     "name": "stdout",
     "output_type": "stream",
     "text": [
      "0.5143853743918828\n",
      "0.3582996788567765\n"
     ]
    }
   ],
   "source": [
    "mape = mean_absolute_percentage_error(price_square_meter, predictions)\n",
    "r_squared = model.score(X, y)\n",
    "print(mape)\n",
    "print(r_squared)"
   ]
  },
  {
   "cell_type": "code",
   "execution_count": 213,
   "id": "fe98d927",
   "metadata": {},
   "outputs": [
    {
     "name": "stdout",
     "output_type": "stream",
     "text": [
      "68013 68013\n"
     ]
    }
   ],
   "source": [
    "print(np.size(price_square_meter), np.size(predictions))"
   ]
  },
  {
   "cell_type": "code",
   "execution_count": 214,
   "id": "97b32af2",
   "metadata": {},
   "outputs": [
    {
     "name": "stdout",
     "output_type": "stream",
     "text": [
      "68013 68013\n"
     ]
    },
    {
     "data": {
      "image/png": "[encoded data removed]",
      "text/plain": [
       "<Figure size 432x288 with 1 Axes>"
      ]
     },
     "metadata": {
      "needs_background": "light"
     },
     "output_type": "display_data"
    }
   ],
   "source": [
    "print(np.size(price_square_meter), np.size(predictions))\n",
    "plt.scatter(price_square_meter, predictions)\n",
    "plt.xlabel('Реальные значения')\n",
    "plt.ylabel('Предсказанные значения')\n",
    "plt.title('График рассеяния: Реальные значения vs Предсказанные значения')\n",
    "plt.show()"
   ]
  },
  {
   "cell_type": "code",
   "execution_count": 199,
   "id": "44637c40",
   "metadata": {},
   "outputs": [
    {
     "name": "stdout",
     "output_type": "stream",
     "text": [
      "Коэффициенты: [-1.16317422e+03 -8.75388650e-12  3.01318010e+02 -4.57032304e+01\n",
      " -1.12073719e+04  6.69764491e+02  6.77385189e+02 -3.53619433e+03\n",
      " -9.59021145e+02]\n",
      "Свободный член: 189686.59348238952\n"
     ]
    }
   ],
   "source": [
    "coef = model.coef_  # Коэффициенты\n",
    "intercept = model.intercept_  # Свободный член\n",
    "\n",
    "print(\"Коэффициенты:\", coef)\n",
    "print(\"Свободный член:\", intercept)"
   ]
  },
  {
   "cell_type": "code",
   "execution_count": 228,
   "id": "5a91fd58",
   "metadata": {},
   "outputs": [],
   "source": [
    "blocky = pd.read_csv('1moskow_2-3_rooms_upper_floors(6+)_Blocky.csv')\n",
    "price_blocky = np.array(blocky[['price']])\n",
    "price_blocky = price_blocky.ravel()\n",
    "area_blocky = np.array(blocky[['area']])\n",
    "area_blocky = area_blocky.ravel()\n",
    "price_square_meter_blocky = price_blocky/area_blocky\n",
    "blocky['price_square_meter'] = price_square_meter_blocky"
   ]
  },
  {
   "cell_type": "code",
   "execution_count": 229,
   "id": "28d26678",
   "metadata": {},
   "outputs": [
    {
     "data": {
      "image/png": "[encoded data removed]",
      "text/plain": [
       "<Figure size 432x288 with 1 Axes>"
      ]
     },
     "metadata": {
      "needs_background": "light"
     },
     "output_type": "display_data"
    }
   ],
   "source": [
    "x = np.sort(price_blocky)\n",
    "y = np.arange(1, np.size(x)+1) / np.size(x)\n",
    "fig, ax = plt.subplots()\n",
    "ax.plot(x, y, label='Empirical Distribution Function')\n",
    "plt.show()"
   ]
  },
  {
   "cell_type": "code",
   "execution_count": 230,
   "id": "77e97e2f",
   "metadata": {},
   "outputs": [
    {
     "data": {
      "image/png": "[encoded data removed]",
      "text/plain": [
       "<Figure size 432x288 with 1 Axes>"
      ]
     },
     "metadata": {
      "needs_background": "light"
     },
     "output_type": "display_data"
    }
   ],
   "source": [
    "x = np.sort(price_square_meter_blocky)\n",
    "y = np.arange(1, np.size(x)+1) / np.size(x)\n",
    "fig, ax = plt.subplots()\n",
    "ax.plot(x, y, label='Empirical Distribution Function')\n",
    "plt.show()"
   ]
  },
  {
   "cell_type": "code",
   "execution_count": 231,
   "id": "15c3fe4a",
   "metadata": {},
   "outputs": [],
   "source": [
    "brick = pd.read_csv('1moskow_2-3_rooms_upper_floors(6+)_Brick.csv')\n",
    "price_brick = np.array(brick[['price']])\n",
    "price_brick = price_brick.ravel()\n",
    "area_brick = np.array(brick[['area']])\n",
    "area_brick = area_brick.ravel()\n",
    "price_square_meter_brick = price_brick/area_brick\n",
    "brick['price_square_meter'] = price_square_meter_brick"
   ]
  },
  {
   "cell_type": "code",
   "execution_count": 232,
   "id": "607c925c",
   "metadata": {},
   "outputs": [
    {
     "data": {
      "image/png": "[encoded data removed]",
      "text/plain": [
       "<Figure size 432x288 with 1 Axes>"
      ]
     },
     "metadata": {
      "needs_background": "light"
     },
     "output_type": "display_data"
    }
   ],
   "source": [
    "x = np.sort(price_brick)\n",
    "y = np.arange(1, np.size(x)+1) / np.size(x)\n",
    "fig, ax = plt.subplots()\n",
    "ax.plot(x, y, label='Empirical Distribution Function')\n",
    "plt.show()"
   ]
  },
  {
   "cell_type": "code",
   "execution_count": 233,
   "id": "8788370d",
   "metadata": {},
   "outputs": [
    {
     "data": {
      "image/png": "[encoded data removed]",
      "text/plain": [
       "<Figure size 432x288 with 1 Axes>"
      ]
     },
     "metadata": {
      "needs_background": "light"
     },
     "output_type": "display_data"
    }
   ],
   "source": [
    "x = np.sort(price_square_meter_brick)\n",
    "y = np.arange(1, np.size(x)+1) / np.size(x)\n",
    "fig, ax = plt.subplots()\n",
    "ax.plot(x, y, label='Empirical Distribution Function')\n",
    "plt.show()"
   ]
  },
  {
   "cell_type": "code",
   "execution_count": 7,
   "id": "3de1370b",
   "metadata": {},
   "outputs": [
    {
     "name": "stdout",
     "output_type": "stream",
     "text": [
      "2018-07-22\n",
      "2018-08-13\n",
      "2018-09-01\n",
      "2018-10-01\n",
      "2018-11-01\n",
      "2018-12-01\n",
      "2019-01-01\n",
      "2019-02-01\n",
      "2019-03-01\n",
      "2019-04-01\n",
      "2019-05-01\n",
      "2019-06-01\n",
      "2019-07-01\n",
      "2019-08-01\n",
      "2019-09-01\n",
      "2019-10-01\n",
      "2019-11-01\n",
      "2019-12-01\n",
      "2020-01-01\n",
      "2020-02-01\n",
      "2020-03-01\n",
      "2020-04-01\n",
      "2020-05-01\n",
      "2020-06-01\n",
      "2020-07-01\n",
      "2020-08-01\n",
      "2020-09-01\n",
      "2020-10-01\n",
      "2020-11-01\n",
      "2020-12-01\n",
      "2021-01-01\n",
      "2021-02-01\n",
      "2021-03-01\n",
      "2021-04-01\n",
      "2021-05-01\n"
     ]
    },
    {
     "data": {
      "image/png": "[encoded data removed]",
      "text/plain": [
       "<Figure size 432x288 with 1 Axes>"
      ]
     },
     "metadata": {
      "needs_background": "light"
     },
     "output_type": "display_data"
    }
   ],
   "source": [
    "y = []\n",
    "x = []\n",
    "idx = 0\n",
    "\n",
    "with open('1moskow_2-3_rooms_upper_floors(6+)_Monolithic_metro.csv', 'r') as csv_file:\n",
    "    reader = csv.reader(csv_file)\n",
    "    flag1 = True\n",
    "    flag2 = True\n",
    "    mdate = None\n",
    "    summ = 0\n",
    "    area = 0\n",
    "    for row in reader:\n",
    "        if flag1:\n",
    "            flag1 = False\n",
    "        elif row != []:\n",
    "            if flag2:\n",
    "                flag2 = False\n",
    "                mdate = date.fromisoformat(row[1])\n",
    "                summ += float(row[0])\n",
    "                area += float(row[10])\n",
    "            elif (mdate.month == date.fromisoformat(row[1]).month) and (mdate.year == date.fromisoformat(row[1]).year):\n",
    "                summ += float(row[0])\n",
    "                area += float(row[10])\n",
    "            else:\n",
    "                y.append(summ/area)\n",
    "                x.append(idx)\n",
    "                summ = 0\n",
    "                area = 0\n",
    "                idx += (date.fromisoformat(row[1]) - mdate).days//12\n",
    "                mdate = date.fromisoformat(row[1])\n",
    "                summ += float(row[0])\n",
    "                area += float(row[10])\n",
    "                print(mdate)\n",
    "\n",
    "plt.plot(x, y)\n",
    "plt.show()\n"
   ]
  },
  {
   "cell_type": "code",
   "execution_count": null,
   "id": "17937aec",
   "metadata": {},
   "outputs": [],
   "source": []
  }
 ],
 "metadata": {
  "kernelspec": {
   "display_name": "Python 3 (ipykernel)",
   "language": "python",
   "name": "python3"
  },
  "language_info": {
   "codemirror_mode": {
    "name": "ipython",
    "version": 3
   },
   "file_extension": ".py",
   "mimetype": "text/x-python",
   "name": "python",
   "nbconvert_exporter": "python",
   "pygments_lexer": "ipython3",
   "version": "3.9.7"
  }
 },
 "nbformat": 4,
 "nbformat_minor": 5
}
